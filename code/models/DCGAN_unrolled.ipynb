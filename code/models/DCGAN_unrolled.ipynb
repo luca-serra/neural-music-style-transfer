{
  "nbformat": 4,
  "nbformat_minor": 0,
  "metadata": {
    "colab": {
      "name": "Unroll_CNN_GAN.ipynb",
      "provenance": [],
      "collapsed_sections": [],
      "toc_visible": true
    },
    "kernelspec": {
      "name": "python3",
      "display_name": "Python 3",
      "language": "python"
    },
    "accelerator": "GPU"
  },
  "cells": [
    {
      "cell_type": "markdown",
      "metadata": {
        "id": "2k91cvqBrC9W"
      },
      "source": [
        "# Imports and data processing"
      ]
    },
    {
      "cell_type": "code",
      "metadata": {
        "colab": {
          "base_uri": "https://localhost:8080/"
        },
        "id": "baTY3zXArHfg",
        "outputId": "be4a1401-200a-4fc6-8f03-673131e122aa"
      },
      "source": [
        "!pip install pretty_midi"
      ],
      "execution_count": null,
      "outputs": [
        {
          "output_type": "stream",
          "text": [
            "Collecting pretty_midi\n",
            "\u001b[?25l  Downloading https://files.pythonhosted.org/packages/bc/8e/63c6e39a7a64623a9cd6aec530070c70827f6f8f40deec938f323d7b1e15/pretty_midi-0.2.9.tar.gz (5.6MB)\n",
            "\u001b[K     |████████████████████████████████| 5.6MB 9.6MB/s \n",
            "\u001b[?25hRequirement already satisfied: numpy>=1.7.0 in /usr/local/lib/python3.7/dist-packages (from pretty_midi) (1.19.5)\n",
            "Collecting mido>=1.1.16\n",
            "\u001b[?25l  Downloading https://files.pythonhosted.org/packages/20/0a/81beb587b1ae832ea6a1901dc7c6faa380e8dd154e0a862f0a9f3d2afab9/mido-1.2.9-py2.py3-none-any.whl (52kB)\n",
            "\u001b[K     |████████████████████████████████| 61kB 7.5MB/s \n",
            "\u001b[?25hRequirement already satisfied: six in /usr/local/lib/python3.7/dist-packages (from pretty_midi) (1.15.0)\n",
            "Building wheels for collected packages: pretty-midi\n",
            "  Building wheel for pretty-midi (setup.py) ... \u001b[?25l\u001b[?25hdone\n",
            "  Created wheel for pretty-midi: filename=pretty_midi-0.2.9-cp37-none-any.whl size=5591954 sha256=043cb7ea60deedaf48282b34e4b81044f61eb8edbd2d54c07da15085aa556467\n",
            "  Stored in directory: /root/.cache/pip/wheels/4c/a1/c6/b5697841db1112c6e5866d75a6b6bf1bef73b874782556ba66\n",
            "Successfully built pretty-midi\n",
            "Installing collected packages: mido, pretty-midi\n",
            "Successfully installed mido-1.2.9 pretty-midi-0.2.9\n"
          ],
          "name": "stdout"
        }
      ]
    },
    {
      "cell_type": "code",
      "metadata": {
        "colab": {
          "base_uri": "https://localhost:8080/"
        },
        "id": "wfFcDJpVrHna",
        "outputId": "d2cd75e4-9ee6-425b-dcad-7b48171bf1e5"
      },
      "source": [
        "import random\r\n",
        "import os\r\n",
        "import pretty_midi\r\n",
        "import numpy as np\r\n",
        "import matplotlib.pyplot as plt\r\n",
        "import seaborn as sns\r\n",
        "\r\n",
        "\r\n",
        "import torch\r\n",
        "import torch.nn as nn\r\n",
        "import torch.optim as optim\r\n",
        "import torch.nn.functional as F\r\n",
        "from torch.autograd import Variable\r\n",
        "from torch.utils.data import TensorDataset\r\n",
        "\r\n",
        "import random as rd\r\n",
        "\r\n",
        "import copy\r\n",
        "\r\n",
        "# we use GPU if available, otherwise CPU\r\n",
        "device_to_use = \"cuda:0\" if torch.cuda.is_available() else \"cpu\"\r\n",
        "device = torch.device(device_to_use)\r\n",
        "print(f\"Using {device_to_use} device\")\r\n"
      ],
      "execution_count": null,
      "outputs": [
        {
          "output_type": "stream",
          "text": [
            "Using cuda:0 device\n"
          ],
          "name": "stdout"
        }
      ]
    },
    {
      "cell_type": "code",
      "metadata": {
        "id": "kc31XYJerHrx"
      },
      "source": [
        "# !unzip \"_data.zip\""
      ],
      "execution_count": null,
      "outputs": []
    },
    {
      "cell_type": "code",
      "metadata": {
        "id": "xbEb5sE-rSfV"
      },
      "source": [
        "\r\n",
        "def get_samples(style=\"J\", train=True, n=100, random=False):\r\n",
        "    \"\"\"Return the preprocessed samples\r\n",
        "\r\n",
        "    Parameters\r\n",
        "    ----------\r\n",
        "    style : str, optional\r\n",
        "        Style of the music, one of {\"J\", \"C\"} (for \"Jazz\" and \"Classic\"), by default \"J\"\r\n",
        "    train : bool, optional\r\n",
        "        Whether to choose the train or validation set, by default True\r\n",
        "    n : int, optional\r\n",
        "        Number of samples which will be returned, by default 100\r\n",
        "    random : bool, optional\r\n",
        "        Whether to randomize the samples or not, by default False\r\n",
        "\r\n",
        "    Returns\r\n",
        "    -------\r\n",
        "    List (of Numpy arrays)\r\n",
        "        List of samples\r\n",
        "    \"\"\"\r\n",
        "\r\n",
        "    folder = \"\"\r\n",
        "    prefix = \"jazz\"\r\n",
        "    if style == \"J\":\r\n",
        "        folder = \"JC_J\"\r\n",
        "        prefix = \"jazz\"\r\n",
        "    elif style == \"C\":\r\n",
        "        folder = \"JC_C\"\r\n",
        "        prefix = \"classic\"\r\n",
        "    else:\r\n",
        "        raise Exception(\"'style' must be one of {'J', 'C'}\")\r\n",
        "    \r\n",
        "    \r\n",
        "    train_or_valid = \"train\" if train else \"test\"\r\n",
        "\r\n",
        "    nb_samples = 4000\r\n",
        "    numbers = list(range(1, nb_samples))\r\n",
        "    if random:\r\n",
        "        np.random.shuffle(numbers)\r\n",
        "    numbers = numbers[:n]\r\n",
        "\r\n",
        "    samples = []\r\n",
        "    for number in numbers:\r\n",
        "        filepath = f\"{folder}/{train_or_valid}/{prefix}_piano_{train_or_valid}_{number}.npy\"\r\n",
        "        if os.path.isfile(filepath):\r\n",
        "            sample = np.load(filepath)\r\n",
        "            # samples.append(sample.astype(int).reshape((64 * 84, 1)))\r\n",
        "            samples.append(sample.astype(int).reshape((1, 64 * 84)))\r\n",
        "\r\n",
        "    # return np.column_stack(samples)\r\n",
        "    return np.vstack(samples)"
      ],
      "execution_count": null,
      "outputs": []
    },
    {
      "cell_type": "markdown",
      "metadata": {
        "id": "ehfzl71xHQGM"
      },
      "source": [
        "# Get sample V2"
      ]
    },
    {
      "cell_type": "code",
      "metadata": {
        "id": "OU-qEoM4HSye"
      },
      "source": [
        "def get_samplesV2(style=\"C\", length=64, n=3000, random=False):\r\n",
        "   \r\n",
        "    folder = \"\"\r\n",
        "    if style == \"J\":\r\n",
        "      folder = \"content/jazzData\"\r\n",
        "    \r\n",
        "    elif style == \"C\":\r\n",
        "      folder = \"content/classicalData\"\r\n",
        "\r\n",
        "    else:\r\n",
        "      raise Exception(\"'style' must be one of {'J', 'C'}\")\r\n",
        "    \r\n",
        "    list_filenames = os.listdir(folder)\r\n",
        "    nb_samples_per_file = max(int(n/len(list_filenames)), 1)\r\n",
        "\r\n",
        "    samples = []\r\n",
        "    for filename in list_filenames:\r\n",
        "      if filename[-3:] ==\"npy\":\r\n",
        "         \r\n",
        "          \r\n",
        "        filepath = folder + \"/\" + filename\r\n",
        "        \r\n",
        "\r\n",
        "        all_file = np.load(filepath).astype(int)\r\n",
        "        all_file_size = len(all_file)\r\n",
        "\r\n",
        "        for k in range(nb_samples_per_file):\r\n",
        "          first_index = rd.randint(0, all_file_size-length-1)\r\n",
        "          sample = all_file[first_index:first_index+length]\r\n",
        "          samples.append(sample.reshape((1, 64 * 84)))\r\n",
        "          \r\n",
        "    return np.vstack(samples)"
      ],
      "execution_count": null,
      "outputs": []
    },
    {
      "cell_type": "code",
      "metadata": {
        "id": "pmqCMaXyH0df"
      },
      "source": [
        "test = get_samplesV2()"
      ],
      "execution_count": null,
      "outputs": []
    },
    {
      "cell_type": "markdown",
      "metadata": {
        "id": "BQXmqVwyrQ4G"
      },
      "source": [
        "## Model creation"
      ]
    },
    {
      "cell_type": "code",
      "metadata": {
        "id": "WTukEhIdrX3e"
      },
      "source": [
        "def noise(size):\r\n",
        "    '''\r\n",
        "    Generates a 1-d vector of gaussian sampled random values\r\n",
        "    '''\r\n",
        "    n = Variable(torch.randn(size, batch_size))\r\n",
        "    return n"
      ],
      "execution_count": null,
      "outputs": []
    },
    {
      "cell_type": "code",
      "metadata": {
        "id": "iI3nlvODrYQg"
      },
      "source": [
        "latent_dim = 100\r\n",
        "\r\n",
        "\r\n",
        "class CNNGenerator(nn.Module):\r\n",
        "    def __init__(self, deepth):\r\n",
        "        super(CNNGenerator, self).__init__()\r\n",
        "        n_features = latent_dim\r\n",
        "        n_out = 64 * 84\r\n",
        "   \r\n",
        "        # Latent vector going into a convolution\r\n",
        "        self.convt1 =  nn.ConvTranspose2d(latent_dim, deepth*8, 4, 1, 0, bias=False)\r\n",
        "        self.batchnorm1 = nn.BatchNorm2d(deepth*8)\r\n",
        "\r\n",
        "        # state size : (deepth*8, 4, 4)\r\n",
        "        self.convt2 = nn.ConvTranspose2d(deepth*8, deepth*4, 4, 2, 1, bias=False)\r\n",
        "        self.batchnorm2 = nn.BatchNorm2d(deepth*4)\r\n",
        "\r\n",
        "        #state size : (deepth*4, 8, 8)\r\n",
        "        self.convt3 = nn.ConvTranspose2d(deepth*4, deepth*2, (4,2),(2,3), 1,bias=False)\r\n",
        "        self.batchnorm3 = nn.BatchNorm2d(deepth*2)\r\n",
        "\r\n",
        "        #state size : (deepth*2, 16, 21)\r\n",
        "        self.convt4 = nn.ConvTranspose2d(deepth*2, deepth, 4,2, 1,bias=False)\r\n",
        "        self.batchnorm4 = nn.BatchNorm2d(deepth)\r\n",
        "\r\n",
        "        #state size : (deepth, 32, 42)\r\n",
        "        self.convt5 = nn.ConvTranspose2d(deepth,1, 4,2, 1,bias=False)\r\n",
        "\r\n",
        "    def forward(self, x):\r\n",
        "        x = self.convt1(x)\r\n",
        "        x = self.batchnorm1(x)\r\n",
        "        x = F.relu(x)\r\n",
        "        x = self.convt2(x)\r\n",
        "        x = self.batchnorm2(x)\r\n",
        "        x = F.relu(x)\r\n",
        "        x = self.convt3(x)\r\n",
        "        x = self.batchnorm3(x)\r\n",
        "        x = F.relu(x)\r\n",
        "        x = self.convt4(x)\r\n",
        "        x = self.batchnorm4(x)\r\n",
        "        x = F.relu(x)\r\n",
        "        x = self.convt5(x)\r\n",
        "        x = F.sigmoid(x)\r\n",
        "        x = x.view(x.size()[0],64,84)\r\n",
        "        return x"
      ],
      "execution_count": null,
      "outputs": []
    },
    {
      "cell_type": "code",
      "metadata": {
        "id": "Tf-iadhZrYTs"
      },
      "source": [
        "# import torch.nn.init as init\r\n",
        "# class MinibatchDiscrimination(nn.Module):\r\n",
        "#     def __init__(self, in_features, out_features, kernel_dims, mean=False):\r\n",
        "#         super().__init__()\r\n",
        "#         self.in_features = in_features\r\n",
        "#         self.out_features = out_features\r\n",
        "#         self.kernel_dims = kernel_dims\r\n",
        "#         self.mean = mean\r\n",
        "#         self.T = nn.Parameter(torch.Tensor(in_features, out_features, kernel_dims))\r\n",
        "#         init.normal(self.T, 0, 1)\r\n",
        "\r\n",
        "#     def forward(self, x):\r\n",
        "#         # x is NxA\r\n",
        "#         # T is AxBxC\r\n",
        "#         matrices = x.mm(self.T.view(self.in_features, -1))\r\n",
        "#         matrices = matrices.view(-1, self.out_features, self.kernel_dims)\r\n",
        "\r\n",
        "#         M = matrices.unsqueeze(0)  # 1xNxBxC\r\n",
        "#         M_T = M.permute(1, 0, 2, 3)  # Nx1xBxC\r\n",
        "#         norm = torch.abs(M - M_T).sum(3)  # NxNxB\r\n",
        "#         expnorm = torch.exp(-norm)\r\n",
        "#         o_b = (expnorm.sum(0) - 1)   # NxB, subtract self distance\r\n",
        "#         if self.mean:\r\n",
        "#             o_b /= x.size(0) - 1\r\n",
        "\r\n",
        "#         x = torch.cat([x, o_b], 1)\r\n",
        "#         return x"
      ],
      "execution_count": null,
      "outputs": []
    },
    {
      "cell_type": "code",
      "metadata": {
        "id": "h9pguEvlrf99"
      },
      "source": [
        "\r\n",
        "\r\n",
        "\r\n",
        "class CNNDiscriminator(nn.Module):\r\n",
        "    def __init__(self, num_conv1, kernel_size1, num_conv2, kernel_size2, num_fc):\r\n",
        "        super(CNNDiscriminator, self).__init__()\r\n",
        "        n_features = 64 * 84\r\n",
        "        n_out = 1\r\n",
        "\r\n",
        "        self.conv_1 = nn.Conv2d(in_channels=1,out_channels=num_conv1,kernel_size=kernel_size1)\r\n",
        "        self.drop1 = nn.Dropout(0.3)\r\n",
        "        self.conv_2 = nn.Conv2d(num_conv1,num_conv2,kernel_size1)\r\n",
        "        self.drop2 = nn.Dropout(0.3)\r\n",
        "        self.fc_1 = nn.Linear(1680, num_fc)\r\n",
        "        # self.mbd1 = MinibatchDiscrimination(num_fc, num_fc, 50)\r\n",
        "        self.fc_2 = nn.Linear(num_fc, n_out)\r\n",
        "        \r\n",
        "    def forward(self, x):\r\n",
        "        x = self.conv_1(x)\r\n",
        "        x = self.drop1(x)\r\n",
        "        x = F.relu(x)\r\n",
        "        x = F.max_pool2d(x, 2, 2)\r\n",
        "        x = self.conv_2(x)\r\n",
        "        x = self.drop2(x)\r\n",
        "        x = F.relu(x)\r\n",
        "        x = F.max_pool2d(x, 2, 2)\r\n",
        "        x = x.view(x.size()[0],x.size()[1]*x.size()[2]*x.size()[3])\r\n",
        "        x = F.relu(self.fc_1(x))\r\n",
        "        x = F.sigmoid(self.fc_2(x))\r\n",
        "        return x\r\n",
        "\r\n",
        "    def load(self, backup):\r\n",
        "        for m_from, m_to in zip(backup.modules(), self.modules()):\r\n",
        "             if isinstance(m_to, nn.Linear) or isinstance(m_to, nn.Conv2d):\r\n",
        "                m_to.weight.data = m_from.weight.data.clone()\r\n",
        "                if m_to.bias is not None:\r\n",
        "                    m_to.bias.data = m_from.bias.data.clone()"
      ],
      "execution_count": null,
      "outputs": []
    },
    {
      "cell_type": "code",
      "metadata": {
        "id": "G4j_PRQXaZ9i"
      },
      "source": [
        "def get_dist_matrix(numpy_array_data):\r\n",
        "  dist = 0\r\n",
        "  counter = 0\r\n",
        "  for i in range(len(numpy_array_data)):\r\n",
        "    matrix_i = numpy_array_data[i]\r\n",
        "    for j in range(i+1, len(numpy_array_data)):\r\n",
        "      matrix_j = numpy_array_data[j]\r\n",
        "      counter+=1\r\n",
        "\r\n",
        "      dist += np.abs(matrix_i-matrix_j).sum()\r\n",
        "  \r\n",
        "  return dist/counter\r\n"
      ],
      "execution_count": null,
      "outputs": []
    },
    {
      "cell_type": "markdown",
      "metadata": {
        "id": "fm0kDu5Xrlys"
      },
      "source": [
        "# Training\r\n"
      ]
    },
    {
      "cell_type": "code",
      "metadata": {
        "id": "wFCJ3e51rkQY",
        "colab": {
          "base_uri": "https://localhost:8080/",
          "height": 223
        },
        "outputId": "ae86fa31-4c31-423c-a48e-370e37042711"
      },
      "source": [
        "n = 2000\n",
        "batch_size = 16\n",
        "data = get_samplesV2(style=\"C\", n=n, random=True)\n",
        "dataset = TensorDataset(torch.Tensor(data).type(torch.float), torch.Tensor(np.ones((data.shape[0], 1))).type(torch.int64))\n",
        "loader = torch.utils.data.DataLoader(dataset, shuffle=True, batch_size=batch_size)"
      ],
      "execution_count": 1,
      "outputs": []
    },
    {
      "cell_type": "code",
      "metadata": {
        "id": "POD80IJqsrQ5"
      },
      "source": [
        "n_epochs = 200\r\n",
        "\r\n",
        "G = CNNGenerator(64).to(device)\r\n",
        "\r\n",
        "num_conv1 = 10\r\n",
        "num_conv2 = 20\r\n",
        "kernel_size1 = 12\r\n",
        "kernel_size2 = 12\r\n",
        "num_fc = 16*84\r\n",
        "D = CNNDiscriminator(num_conv1, kernel_size1, num_conv2, kernel_size2, num_fc).to(device)\r\n",
        "\r\n",
        "loss = nn.BCELoss()\r\n",
        "d_optimizer = optim.SGD(D.parameters(), lr=1e-3, momentum=0.5)\r\n",
        "g_optimizer = optim.SGD(G.parameters(), lr=1e-3, momentum=0.9)"
      ],
      "execution_count": null,
      "outputs": []
    },
    {
      "cell_type": "code",
      "metadata": {
        "id": "q7H7nIq0XhW-"
      },
      "source": [
        "nb_landmark_seeds = 10\r\n",
        "\r\n",
        "landmark_seeds = Variable(torch.FloatTensor(torch.randn(nb_landmark_seeds, latent_dim))).view(nb_landmark_seeds,latent_dim, 1,1 )\r\n"
      ],
      "execution_count": null,
      "outputs": []
    },
    {
      "cell_type": "code",
      "metadata": {
        "colab": {
          "base_uri": "https://localhost:8080/",
          "height": 1000
        },
        "id": "vE-zg_QctPzE",
        "outputId": "9aebc1c3-a020-462e-8a40-71a9d1121056"
      },
      "source": [
        "fake_data_list = []\r\n",
        "landmark_seeds_data_list = []\r\n",
        "\r\n",
        "nb_roll = 5\r\n",
        "\r\n",
        "def extract(v):\r\n",
        "    return v.data.storage().tolist()\r\n",
        "epochs = []\r\n",
        "d_fake_errs = []\r\n",
        "d_real_errs = []\r\n",
        "g_errs = []\r\n",
        "\r\n",
        "# d_avg_notes = 0\r\n",
        "\r\n",
        "for epoch in range(n_epochs):\r\n",
        "    # for _ in range(20):  # train D for 20 steps\r\n",
        "    for batch_idx, sample in enumerate(loader):\r\n",
        "\r\n",
        "      ####### D_LOOP #########\r\n",
        "\r\n",
        "    # 1. Train D on real+fake\r\n",
        "      d_optimizer.zero_grad()  \r\n",
        "\r\n",
        "      inputs, labels = sample\r\n",
        "      N = len(inputs)\r\n",
        "      # print(N)\r\n",
        "      inputs_real_data, labels_real_data = inputs.to(device), labels.to(device)\r\n",
        "      inputs_real_data = inputs_real_data.view((len(inputs),1, 64,84))\r\n",
        "\r\n",
        "    #  1A: Train D on real\r\n",
        "      d_real_decision = D(inputs_real_data)\r\n",
        "\r\n",
        "      d_real_error = loss(\r\n",
        "            d_real_decision, Variable(torch.ones([N, 1])).to(device)\r\n",
        "        )  # ones = true\r\n",
        "      d_real_error.backward()  # compute/store gradients, but don't change params\r\n",
        "\r\n",
        "    #  1B: Train D on fake\r\n",
        "      d_gen_seed = Variable(torch.FloatTensor(torch.randn(N, latent_dim))).to(\r\n",
        "            device\r\n",
        "        )\r\n",
        "      d_gen_seed = d_gen_seed.view(N,latent_dim,1,1)\r\n",
        "      d_fake_data = G(d_gen_seed).detach()  # detach to avoid training G on these labels\r\n",
        "      d_fake_data = d_fake_data.view((len(inputs),1, 64,84))\r\n",
        "      d_fake_decision = D(d_fake_data)\r\n",
        "      d_fake_error = loss(\r\n",
        "            d_fake_decision, Variable(torch.zeros([N, 1]).to(device))\r\n",
        "        )  # zeros = fake\r\n",
        "\r\n",
        "\r\n",
        "      dre, dfe = extract(d_real_error)[0], extract(d_fake_error)[0]\r\n",
        "      d_fake_error.backward()\r\n",
        "      d_optimizer.step()  # Only optimizes D's parameters; changes based on stored gradients from backward()\r\n",
        "\r\n",
        "      ####### GET GEN INPUT ####\r\n",
        "      G.zero_grad()\r\n",
        "\r\n",
        "      g_gen_seed = Variable(torch.FloatTensor(torch.randn(N, latent_dim))).to(\r\n",
        "                device\r\n",
        "            )\r\n",
        "      g_gen_seed = g_gen_seed.view(N,latent_dim,1,1)\r\n",
        "      \r\n",
        "\r\n",
        "      ###### D_ROLL LOOP #####\r\n",
        "\r\n",
        "      backup = copy.deepcopy(D)\r\n",
        "      for i in range(nb_roll):\r\n",
        "        d_optimizer.zero_grad()\r\n",
        "        ### Train D on Real ###\r\n",
        "        \r\n",
        "        d_real_decision = D(inputs_real_data)\r\n",
        "        d_real_error = loss(\r\n",
        "            d_real_decision, Variable(torch.ones([N, 1])).to(device)\r\n",
        "        )  # ones = true\r\n",
        "        # d_real_error.backward(create_graph=True)\r\n",
        "        d_real_error.backward()\r\n",
        "\r\n",
        "        ### Train D on Fake ###\r\n",
        "        with torch.no_grad():\r\n",
        "          d_fake_data = G(d_gen_seed).detach()  # detach to avoid training G on these labels\r\n",
        "        d_fake_data = d_fake_data.view((len(inputs),1, 64,84))\r\n",
        "        d_fake_decision = D(d_fake_data)\r\n",
        "        d_fake_error = loss(\r\n",
        "              d_fake_decision, Variable(torch.zeros([N, 1]).to(device))\r\n",
        "          )  # zeros = fake\r\n",
        "        d_fake_error.backward()\r\n",
        "        d_optimizer.step()\r\n",
        "      \r\n",
        "      ##### TRAIN GEN ####\r\n",
        "      \r\n",
        "      g_fake_data = G(g_gen_seed)\r\n",
        "      g_fake_data = g_fake_data.view(len(g_fake_data),1, 64,84)\r\n",
        "      dg_fake_decision = D(g_fake_data)\r\n",
        "      g_error = loss(\r\n",
        "                dg_fake_decision, Variable(torch.ones([N, 1]).to(device))\r\n",
        "            )  # Train G to pretend it's genuine\r\n",
        "\r\n",
        "      g_error.backward()\r\n",
        "      g_optimizer.step()\r\n",
        "\r\n",
        "      ge = extract(g_error)[0]\r\n",
        "\r\n",
        "\r\n",
        "      #### UNROLL D ####\r\n",
        "      D.load(backup)\r\n",
        "      del backup\r\n",
        "\r\n",
        "      epochs.append(epoch)\r\n",
        "      d_fake_errs.append(dfe)\r\n",
        "      d_real_errs.append(dre)\r\n",
        "      g_errs.append(ge)\r\n",
        "\r\n",
        "    if epoch % 10 == 0:\r\n",
        "      print(\r\n",
        "            \"Epoch %s: D (%1.4f real_err, %1.4f fake_err) G (%1.4f err) \"\r\n",
        "            % (epoch, dre, dfe, ge)\r\n",
        "        )\r\n",
        "      numpy_fake_data = g_fake_data.cpu().detach().numpy()\r\n",
        "      nb_notes_per_data = np.zeros(len(numpy_fake_data))\r\n",
        "      for i in range(len(numpy_fake_data)):\r\n",
        "        nb_notes_per_data[i] = numpy_fake_data[i].sum()/64\r\n",
        "\r\n",
        "      mean_notes = nb_notes_per_data.mean()\r\n",
        "      var_notes = np.var(nb_notes_per_data)\r\n",
        "\r\n",
        "\r\n",
        "      print(\"Generated data:\", f\"\\nMin value: {numpy_fake_data.min()} / Max value: {numpy_fake_data.max()}\")\r\n",
        "      print(f\"Note played simultaneously for generated data  mean/var: {mean_notes:.2f} / {var_notes:.2f}\")\r\n",
        "      \r\n",
        "      if epoch % 50 == 0:\r\n",
        "        sns.displot(numpy_fake_data.flatten(), kind=\"kde\")\r\n",
        "        plt.show()\r\n",
        "        g_fake_data_landmarks = G(landmark_seeds.to(device))\r\n",
        "        numpy_fake_data_landmarks = g_fake_data_landmarks.cpu().detach().numpy()\r\n",
        "        fake_data_list.append((epoch, numpy_fake_data[0, :]))\r\n",
        "        landmark_seeds_data_list.append((epoch, numpy_fake_data_landmarks))\r\n",
        "\r\n",
        "        landmarks_differences = get_dist_matrix(numpy_fake_data_landmarks)\r\n",
        "        print(f\"Differences between generated data : {landmarks_differences}\")\r\n",
        "\r\n",
        "print(\r\n",
        "    \"Epoch %s: D (%1.4f real_err, %1.4f fake_err) G (%1.4f err) \"\r\n",
        "    % (epoch, dre, dfe, ge)\r\n",
        ")\r\n",
        "\r\n",
        "\r\n"
      ],
      "execution_count": null,
      "outputs": [
        {
          "output_type": "stream",
          "text": [
            "/usr/local/lib/python3.6/dist-packages/torch/nn/functional.py:1639: UserWarning: nn.functional.sigmoid is deprecated. Use torch.sigmoid instead.\n",
            "  warnings.warn(\"nn.functional.sigmoid is deprecated. Use torch.sigmoid instead.\")\n"
          ],
          "name": "stderr"
        },
        {
          "output_type": "stream",
          "text": [
            "Epoch 0: D (0.3918 real_err, 0.4470 fake_err) G (1.0682 err) \n",
            "Generated data: \n",
            "Min value: 3.5205786844016984e-05 / Max value: 0.9999470710754395\n",
            "Note played simultaneously for generated data  mean/var: 5.81 / 0.35\n"
          ],
          "name": "stdout"
        },
        {
          "output_type": "display_data",
          "data": {
            "image/png": "[encoded data removed]",
            "text/plain": [
              "<Figure size 360x360 with 1 Axes>"
            ]
          },
          "metadata": {
            "tags": [],
            "needs_background": "light"
          }
        },
        {
          "output_type": "stream",
          "text": [
            "/usr/local/lib/python3.6/dist-packages/torch/nn/functional.py:1639: UserWarning: nn.functional.sigmoid is deprecated. Use torch.sigmoid instead.\n",
            "  warnings.warn(\"nn.functional.sigmoid is deprecated. Use torch.sigmoid instead.\")\n"
          ],
          "name": "stderr"
        },
        {
          "output_type": "stream",
          "text": [
            "Differences between generated data : 126.65729031032986\n",
            "Epoch 10: D (0.4287 real_err, 0.2066 fake_err) G (1.9508 err) \n",
            "Generated data: \n",
            "Min value: 1.685352903205962e-33 / Max value: 1.0\n",
            "Note played simultaneously for generated data  mean/var: 3.02 / 0.63\n",
            "Epoch 20: D (0.2987 real_err, 0.4041 fake_err) G (2.6522 err) \n",
            "Generated data: \n",
            "Min value: 1.9876735198481458e-32 / Max value: 1.0\n",
            "Note played simultaneously for generated data  mean/var: 1.33 / 1.39\n",
            "Epoch 30: D (0.4780 real_err, 0.2031 fake_err) G (2.6700 err) \n",
            "Generated data: \n",
            "Min value: 0.0 / Max value: 1.0\n",
            "Note played simultaneously for generated data  mean/var: 1.38 / 1.57\n",
            "Epoch 40: D (0.5400 real_err, 0.0652 fake_err) G (2.4003 err) \n",
            "Generated data: \n",
            "Min value: 0.0 / Max value: 1.0\n",
            "Note played simultaneously for generated data  mean/var: 1.05 / 1.10\n",
            "Epoch 50: D (0.3540 real_err, 0.1054 fake_err) G (2.1120 err) \n",
            "Generated data: \n",
            "Min value: 0.0 / Max value: 1.0\n",
            "Note played simultaneously for generated data  mean/var: 1.31 / 0.67\n"
          ],
          "name": "stdout"
        },
        {
          "output_type": "display_data",
          "data": {
            "image/png": "[encoded data removed]",
            "text/plain": [
              "<Figure size 360x360 with 1 Axes>"
            ]
          },
          "metadata": {
            "tags": [],
            "needs_background": "light"
          }
        },
        {
          "output_type": "stream",
          "text": [
            "/usr/local/lib/python3.6/dist-packages/torch/nn/functional.py:1639: UserWarning: nn.functional.sigmoid is deprecated. Use torch.sigmoid instead.\n",
            "  warnings.warn(\"nn.functional.sigmoid is deprecated. Use torch.sigmoid instead.\")\n"
          ],
          "name": "stderr"
        },
        {
          "output_type": "stream",
          "text": [
            "Differences between generated data : 121.31983825365703\n",
            "Epoch 60: D (0.6592 real_err, 0.0483 fake_err) G (1.5263 err) \n",
            "Generated data: \n",
            "Min value: 0.0 / Max value: 1.0\n",
            "Note played simultaneously for generated data  mean/var: 0.90 / 0.96\n",
            "Epoch 70: D (0.0003 real_err, 0.0299 fake_err) G (3.1301 err) \n",
            "Generated data: \n",
            "Min value: 0.0 / Max value: 1.0\n",
            "Note played simultaneously for generated data  mean/var: 0.66 / 1.22\n",
            "Epoch 80: D (1.5238 real_err, 0.0516 fake_err) G (1.6611 err) \n",
            "Generated data: \n",
            "Min value: 0.0 / Max value: 1.0\n",
            "Note played simultaneously for generated data  mean/var: 0.44 / 0.21\n",
            "Epoch 90: D (0.0007 real_err, 0.0657 fake_err) G (4.4773 err) \n",
            "Generated data: \n",
            "Min value: 0.0 / Max value: 1.0\n",
            "Note played simultaneously for generated data  mean/var: 1.45 / 3.15\n",
            "Epoch 100: D (0.0005 real_err, 0.1340 fake_err) G (4.0283 err) \n",
            "Generated data: \n",
            "Min value: 0.0 / Max value: 1.0\n",
            "Note played simultaneously for generated data  mean/var: 0.71 / 1.52\n"
          ],
          "name": "stdout"
        },
        {
          "output_type": "display_data",
          "data": {
            "image/png": "[encoded data removed]",
            "text/plain": [
              "<Figure size 360x360 with 1 Axes>"
            ]
          },
          "metadata": {
            "tags": [],
            "needs_background": "light"
          }
        },
        {
          "output_type": "stream",
          "text": [
            "/usr/local/lib/python3.6/dist-packages/torch/nn/functional.py:1639: UserWarning: nn.functional.sigmoid is deprecated. Use torch.sigmoid instead.\n",
            "  warnings.warn(\"nn.functional.sigmoid is deprecated. Use torch.sigmoid instead.\")\n"
          ],
          "name": "stderr"
        },
        {
          "output_type": "stream",
          "text": [
            "Differences between generated data : 112.2082152971377\n",
            "Epoch 110: D (0.1569 real_err, 0.0301 fake_err) G (3.5804 err) \n",
            "Generated data: \n",
            "Min value: 0.0 / Max value: 1.0\n",
            "Note played simultaneously for generated data  mean/var: 1.01 / 0.44\n",
            "Epoch 120: D (0.0001 real_err, 0.2480 fake_err) G (4.8700 err) \n",
            "Generated data: \n",
            "Min value: 0.0 / Max value: 1.0\n",
            "Note played simultaneously for generated data  mean/var: 0.86 / 0.34\n",
            "Epoch 130: D (0.3316 real_err, 0.9820 fake_err) G (4.8859 err) \n",
            "Generated data: \n",
            "Min value: 0.0 / Max value: 1.0\n",
            "Note played simultaneously for generated data  mean/var: 0.82 / 0.66\n",
            "Epoch 140: D (0.2072 real_err, 0.0592 fake_err) G (4.3429 err) \n",
            "Generated data: \n",
            "Min value: 0.0 / Max value: 1.0\n",
            "Note played simultaneously for generated data  mean/var: 0.75 / 1.46\n",
            "Epoch 150: D (0.0000 real_err, 0.2254 fake_err) G (4.3901 err) \n",
            "Generated data: \n",
            "Min value: 0.0 / Max value: 1.0\n",
            "Note played simultaneously for generated data  mean/var: 0.80 / 1.58\n"
          ],
          "name": "stdout"
        },
        {
          "output_type": "display_data",
          "data": {
            "image/png": "[encoded data removed]",
            "text/plain": [
              "<Figure size 360x360 with 1 Axes>"
            ]
          },
          "metadata": {
            "tags": [],
            "needs_background": "light"
          }
        },
        {
          "output_type": "stream",
          "text": [
            "/usr/local/lib/python3.6/dist-packages/torch/nn/functional.py:1639: UserWarning: nn.functional.sigmoid is deprecated. Use torch.sigmoid instead.\n",
            "  warnings.warn(\"nn.functional.sigmoid is deprecated. Use torch.sigmoid instead.\")\n"
          ],
          "name": "stderr"
        },
        {
          "output_type": "stream",
          "text": [
            "Differences between generated data : 89.68194492847866\n",
            "Epoch 160: D (0.0001 real_err, 0.0344 fake_err) G (3.5673 err) \n",
            "Generated data: \n",
            "Min value: 0.0 / Max value: 1.0\n",
            "Note played simultaneously for generated data  mean/var: 0.10 / 0.00\n",
            "Epoch 170: D (0.0565 real_err, 0.0526 fake_err) G (3.3095 err) \n",
            "Generated data: \n",
            "Min value: 0.0 / Max value: 1.0\n",
            "Note played simultaneously for generated data  mean/var: 0.54 / 0.87\n",
            "Epoch 180: D (0.0040 real_err, 0.5894 fake_err) G (5.1702 err) \n",
            "Generated data: \n",
            "Min value: 0.0 / Max value: 1.0\n",
            "Note played simultaneously for generated data  mean/var: 0.85 / 0.28\n",
            "Epoch 190: D (0.1533 real_err, 0.0881 fake_err) G (2.7441 err) \n",
            "Generated data: \n",
            "Min value: 0.0 / Max value: 1.0\n",
            "Note played simultaneously for generated data  mean/var: 1.00 / 0.50\n",
            "Epoch 199: D (0.0001 real_err, 0.0664 fake_err) G (3.7873 err) \n"
          ],
          "name": "stdout"
        }
      ]
    },
    {
      "cell_type": "code",
      "metadata": {
        "colab": {
          "base_uri": "https://localhost:8080/",
          "height": 299
        },
        "id": "YUbErR-CUUwg",
        "outputId": "434e4654-963c-4480-a094-f19700d2b833"
      },
      "source": [
        "plt.plot(epochs, d_fake_errs)\r\n",
        "plt.plot(epochs, d_real_errs)\r\n",
        "plt.plot(epochs, g_errs)\r\n",
        "plt.xlabel(\"epochs\")\r\n",
        "plt.ylabel(\"error\")"
      ],
      "execution_count": null,
      "outputs": [
        {
          "output_type": "execute_result",
          "data": {
            "text/plain": [
              "Text(0, 0.5, 'error')"
            ]
          },
          "metadata": {
            "tags": []
          },
          "execution_count": 30
        },
        {
          "output_type": "display_data",
          "data": {
            "image/png": "[encoded data removed]",
            "text/plain": [
              "<Figure size 432x288 with 1 Axes>"
            ]
          },
          "metadata": {
            "tags": [],
            "needs_background": "light"
          }
        }
      ]
    },
    {
      "cell_type": "code",
      "metadata": {
        "id": "HvssCdaqUVLe"
      },
      "source": [
        "def raw_to_midi(array, name, precision=0.7):\r\n",
        "    pm = pretty_midi.PrettyMIDI()\r\n",
        "    # Create an Instrument instance\r\n",
        "    program = pretty_midi.instrument_name_to_program('Cello')\r\n",
        "    piano = pretty_midi.Instrument(program=program)\r\n",
        "\r\n",
        "    array = np.array(list(map(lambda x: 0 if x < precision else 1, array)))\r\n",
        "    array = array.reshape((64, 84))\r\n",
        "    for time_idx in range(64):\r\n",
        "        for pitch_idx in range(84):\r\n",
        "            if array[time_idx, pitch_idx] == 1:\r\n",
        "                # note = pretty_midi.Note(\r\n",
        "                # velocity=100, pitch=25 + pitch_idx, start=1 / 16 * time_idx, end=1 / 16 * (time_idx + 1))\r\n",
        "                note = pretty_midi.Note(\r\n",
        "                velocity=100, pitch=25 + pitch_idx, start=1 / 8 * time_idx, end=1 / 8 * (time_idx + 1))\r\n",
        "                # Add it to our instrument\r\n",
        "                piano.notes.append(note)\r\n",
        "    pm.instruments.append(piano)\r\n",
        "    # Write out the MIDI data\r\n",
        "    pm.write(f'midi_results/{name}.mid')\r\n",
        "    \r\n",
        "        \r\n",
        "\r\n"
      ],
      "execution_count": null,
      "outputs": []
    },
    {
      "source": [
        "!mkdir \"midi_results\""
      ],
      "cell_type": "code",
      "metadata": {
        "id": "GcfhZ9G7p0Sk"
      },
      "execution_count": null,
      "outputs": []
    },
    {
      "cell_type": "code",
      "metadata": {
        "id": "1XH-sE88Jrej"
      },
      "source": [
        "root_name = \"CNN_\"\r\n",
        "for x in landmark_seeds_data_list:\r\n",
        "  epoch_nb = x[0]\r\n",
        "  data = x[1]\r\n",
        "  for j in range(len(data)):\r\n",
        "    name = root_name + \"epoch_\" + str(epoch_nb) + \"_seed\" + str(j)\r\n",
        "    raw_to_midi(data[j].reshape(64*84), name, precision=0.9)\r\n"
      ],
      "execution_count": null,
      "outputs": []
    },
    {
      "cell_type": "code",
      "metadata": {
        "colab": {
          "base_uri": "https://localhost:8080/"
        },
        "id": "YzPHe3DtUTOP",
        "outputId": "bad1b775-9890-4b24-e12a-677255398e1c"
      },
      "source": [
        "!zip -r /content/resultsCNN2.zip /content/midi_results"
      ],
      "execution_count": null,
      "outputs": [
        {
          "output_type": "stream",
          "text": [
            "updating: content/midi_results/ (stored 0%)\n",
            "  adding: content/midi_results/CNN_epoch_400_seed3.mid (deflated 74%)\n",
            "  adding: content/midi_results/CNN_epoch_450_seed2.mid (deflated 78%)\n",
            "  adding: content/midi_results/CNN_epoch_500_seed2.mid (deflated 73%)\n",
            "  adding: content/midi_results/CNN_epoch_150_seed3.mid (deflated 79%)\n",
            "  adding: content/midi_results/CNN_epoch_200_seed1.mid (deflated 62%)\n",
            "  adding: content/midi_results/test_new_fn.mid (deflated 70%)\n",
            "  adding: content/midi_results/CNN_epoch_350_seed2.mid (deflated 74%)\n",
            "  adding: content/midi_results/CNN_epoch_350_seed3.mid (deflated 74%)\n",
            "  adding: content/midi_results/CNN_epoch_450_seed1.mid (deflated 61%)\n",
            "  adding: content/midi_results/CNN_epoch_850_seed9.mid (deflated 61%)\n",
            "  adding: content/midi_results/CNN_epoch_600_seed5.mid (deflated 65%)\n",
            "  adding: content/midi_results/CNN_epoch_150_seed7.mid (deflated 64%)\n",
            "  adding: content/midi_results/CNN_epoch_650_seed6.mid (deflated 69%)\n",
            "  adding: content/midi_results/CNN_epoch_850_seed5.mid (deflated 29%)\n",
            "  adding: content/midi_results/CNN_epoch_300_seed5.mid (deflated 82%)\n",
            "  adding: content/midi_results/CNN_epoch_650_seed0.mid (deflated 73%)\n",
            "  adding: content/midi_results/CNN_epoch_800_seed8.mid (deflated 41%)\n",
            "  adding: content/midi_results/CNN_epoch_950_seed1.mid (deflated 45%)\n",
            "  adding: content/midi_results/CNN_epoch_550_seed4.mid (deflated 49%)\n",
            "  adding: content/midi_results/CNN_epoch_350_seed5.mid (deflated 85%)\n",
            "  adding: content/midi_results/CNN_epoch_400_seed6.mid (deflated 74%)\n",
            "  adding: content/midi_results/CNN_epoch_850_seed0.mid (deflated 28%)\n",
            "  adding: content/midi_results/CNN_epoch_250_seed7.mid (deflated 65%)\n",
            "  adding: content/midi_results/CNN_epoch_650_seed8.mid (deflated 72%)\n",
            "  adding: content/midi_results/CNN_epoch_150_seed9.mid (deflated 83%)\n",
            "  adding: content/midi_results/CNN_epoch_400_seed9.mid (deflated 82%)\n",
            "  adding: content/midi_results/CNN_epoch_600_seed2.mid (deflated 74%)\n",
            "  adding: content/midi_results/CNN_epoch_250_seed2.mid (deflated 69%)\n",
            "  adding: content/midi_results/CNN_epoch_800_seed0.mid (deflated 35%)\n",
            "  adding: content/midi_results/CNN_epoch_450_seed6.mid (deflated 71%)\n",
            "  adding: content/midi_results/CNN_epoch_100_seed1.mid (deflated 69%)\n",
            "  adding: content/midi_results/CNN_epoch_300_seed0.mid (deflated 76%)\n",
            "  adding: content/midi_results/CNN_epoch_250_seed3.mid (deflated 80%)\n",
            "  adding: content/midi_results/CNN_epoch_750_seed1.mid (deflated 24%)\n",
            "  adding: content/midi_results/CNN_epoch_50_seed9.mid (deflated 73%)\n",
            "  adding: content/midi_results/CNN_epoch_300_seed9.mid (deflated 79%)\n",
            "  adding: content/midi_results/CNN_epoch_500_seed6.mid (deflated 71%)\n",
            "  adding: content/midi_results/CNN_epoch_800_seed9.mid (deflated 25%)\n",
            "  adding: content/midi_results/CNN_epoch_650_seed2.mid (deflated 76%)\n",
            "  adding: content/midi_results/CNN_epoch_400_seed0.mid (deflated 78%)\n",
            "  adding: content/midi_results/CNN_epoch_800_seed7.mid (deflated 28%)\n",
            "  adding: content/midi_results/CNN_epoch_50_seed2.mid (deflated 75%)\n",
            "  adding: content/midi_results/CNN_epoch_350_seed4.mid (deflated 56%)\n",
            "  adding: content/midi_results/CNN_epoch_200_seed3.mid (deflated 74%)\n",
            "  adding: content/midi_results/CNN_epoch_200_seed8.mid (deflated 74%)\n",
            "  adding: content/midi_results/CNN_epoch_650_seed5.mid (deflated 66%)\n",
            "  adding: content/midi_results/CNN_epoch_50_seed7.mid (deflated 75%)\n",
            "  adding: content/midi_results/CNN_epoch_0_seed4.mid (deflated 58%)\n",
            "  adding: content/midi_results/CNN_epoch_900_seed5.mid (deflated 28%)\n",
            "  adding: content/midi_results/CNN_epoch_950_seed0.mid (deflated 42%)\n",
            "  adding: content/midi_results/CNN_epoch_300_seed2.mid (deflated 70%)\n",
            "  adding: content/midi_results/CNN_epoch_250_seed8.mid (deflated 81%)\n",
            "  adding: content/midi_results/CNN_epoch_950_seed5.mid (deflated 13%)\n",
            "  adding: content/midi_results/CNN_epoch_300_seed1.mid (deflated 62%)\n",
            "  adding: content/midi_results/CNN_epoch_900_seed8.mid (deflated 39%)\n",
            "  adding: content/midi_results/CNN_epoch_450_seed8.mid (deflated 79%)\n",
            "  adding: content/midi_results/CNN_epoch_800_seed5.mid (deflated 30%)\n",
            "  adding: content/midi_results/CNN_epoch_0_seed5.mid (deflated 54%)\n",
            "  adding: content/midi_results/CNN_epoch_950_seed6.mid (deflated 15%)\n",
            "  adding: content/midi_results/CNN_epoch_550_seed0.mid (deflated 76%)\n",
            "  adding: content/midi_results/CNN_epoch_900_seed2.mid (deflated 54%)\n",
            "  adding: content/midi_results/CNN_epoch_950_seed4.mid (deflated 20%)\n",
            "  adding: content/midi_results/CNN_epoch_950_seed9.mid (deflated 45%)\n",
            "  adding: content/midi_results/CNN_epoch_200_seed9.mid (deflated 82%)\n",
            "  adding: content/midi_results/CNN_epoch_300_seed6.mid (deflated 68%)\n",
            "  adding: content/midi_results/CNN_epoch_100_seed9.mid (deflated 78%)\n",
            "  adding: content/midi_results/CNN_epoch_900_seed6.mid (deflated 9%)\n",
            "  adding: content/midi_results/CNN_epoch_650_seed9.mid (deflated 86%)\n",
            "  adding: content/midi_results/CNN_epoch_100_seed6.mid (deflated 65%)\n",
            "  adding: content/midi_results/CNN_epoch_900_seed9.mid (deflated 51%)\n",
            "  adding: content/midi_results/CNN_epoch_150_seed2.mid (deflated 78%)\n",
            "  adding: content/midi_results/CNN_epoch_950_seed8.mid (deflated 28%)\n",
            "  adding: content/midi_results/CNN_epoch_0_seed9.mid (deflated 55%)\n",
            "  adding: content/midi_results/CNN_epoch_750_seed5.mid (deflated 55%)\n",
            "  adding: content/midi_results/CNN_epoch_300_seed4.mid (deflated 59%)\n",
            "  adding: content/midi_results/CNN_epoch_500_seed3.mid (deflated 74%)\n",
            "  adding: content/midi_results/CNN_epoch_850_seed7.mid (deflated 22%)\n",
            "  adding: content/midi_results/CNN_epoch_650_seed1.mid (deflated 52%)\n",
            "  adding: content/midi_results/CNN_epoch_550_seed1.mid (deflated 53%)\n",
            "  adding: content/midi_results/CNN_epoch_750_seed0.mid (deflated 58%)\n",
            "  adding: content/midi_results/CNN_epoch_100_seed3.mid (deflated 72%)\n",
            "  adding: content/midi_results/CNN_epoch_250_seed6.mid (deflated 67%)\n",
            "  adding: content/midi_results/CNN_epoch_50_seed0.mid (deflated 69%)\n",
            "  adding: content/midi_results/CNN_epoch_650_seed3.mid (deflated 69%)\n",
            "  adding: content/midi_results/CNN_epoch_0_seed0.mid (deflated 52%)\n",
            "  adding: content/midi_results/CNN_epoch_850_seed1.mid (deflated 11%)\n",
            "  adding: content/midi_results/CNN_epoch_250_seed9.mid (deflated 82%)\n",
            "  adding: content/midi_results/CNN_epoch_850_seed8.mid (deflated 29%)\n",
            "  adding: content/midi_results/CNN_epoch_600_seed4.mid (deflated 50%)\n",
            "  adding: content/midi_results/CNN_epoch_500_seed8.mid (deflated 80%)\n",
            "  adding: content/midi_results/CNN_epoch_850_seed3.mid (deflated 27%)\n",
            "  adding: content/midi_results/CNN_epoch_350_seed8.mid (deflated 79%)\n",
            "  adding: content/midi_results/CNN_epoch_700_seed5.mid (deflated 61%)\n",
            "  adding: content/midi_results/CNN_epoch_300_seed3.mid (deflated 72%)\n",
            "  adding: content/midi_results/CNN_epoch_800_seed6.mid (deflated 18%)\n",
            "  adding: content/midi_results/CNN_epoch_900_seed1.mid (deflated 50%)\n",
            "  adding: content/midi_results/CNN_epoch_800_seed3.mid (deflated 11%)\n",
            "  adding: content/midi_results/CNN_epoch_200_seed2.mid (deflated 75%)\n",
            "  adding: content/midi_results/CNN_epoch_550_seed8.mid (deflated 76%)\n",
            "  adding: content/midi_results/CNN_epoch_200_seed0.mid (deflated 76%)\n",
            "  adding: content/midi_results/CNN_epoch_800_seed1.mid (deflated 11%)\n",
            "  adding: content/midi_results/CNN_epoch_700_seed0.mid (deflated 66%)\n",
            "  adding: content/midi_results/CNN_epoch_400_seed7.mid (deflated 55%)\n",
            "  adding: content/midi_results/CNN_epoch_400_seed2.mid (deflated 77%)\n",
            "  adding: content/midi_results/CNN_epoch_200_seed6.mid (deflated 68%)\n",
            "  adding: content/midi_results/CNN_epoch_500_seed9.mid (deflated 82%)\n",
            "  adding: content/midi_results/CNN_epoch_900_seed7.mid (deflated 20%)\n",
            "  adding: content/midi_results/CNN_epoch_400_seed4.mid (deflated 60%)\n",
            "  adding: content/midi_results/CNN_epoch_750_seed6.mid (deflated 53%)\n",
            "  adding: content/midi_results/CNN_epoch_500_seed0.mid (deflated 71%)\n",
            "  adding: content/midi_results/CNN_epoch_850_seed2.mid (deflated 49%)\n",
            "  adding: content/midi_results/CNN_epoch_150_seed1.mid (deflated 64%)\n",
            "  adding: content/midi_results/CNN_epoch_400_seed5.mid (deflated 84%)\n",
            "  adding: content/midi_results/CNN_epoch_450_seed7.mid (deflated 45%)\n",
            "  adding: content/midi_results/CNN_epoch_700_seed2.mid (deflated 67%)\n",
            "  adding: content/midi_results/CNN_epoch_250_seed4.mid (deflated 59%)\n",
            "  adding: content/midi_results/CNN_epoch_550_seed9.mid (deflated 79%)\n",
            "  adding: content/midi_results/CNN_epoch_700_seed6.mid (deflated 59%)\n",
            "  adding: content/midi_results/CNN_epoch_750_seed7.mid (deflated 52%)\n",
            "  adding: content/midi_results/CNN_epoch_850_seed6.mid (deflated 13%)\n",
            "  adding: content/midi_results/CNN_epoch_350_seed6.mid (deflated 71%)\n",
            "  adding: content/midi_results/CNN_epoch_350_seed0.mid (deflated 76%)\n",
            "  adding: content/midi_results/CNN_epoch_50_seed4.mid (deflated 57%)\n",
            "  adding: content/midi_results/CNN_epoch_0_seed8.mid (deflated 54%)\n",
            "  adding: content/midi_results/CNN_epoch_300_seed7.mid (deflated 60%)\n",
            "  adding: content/midi_results/CNN_epoch_350_seed9.mid (deflated 81%)\n",
            "  adding: content/midi_results/CNN_epoch_700_seed3.mid (deflated 66%)\n",
            "  adding: content/midi_results/CNN_epoch_900_seed3.mid (deflated 23%)\n",
            "  adding: content/midi_results/CNN_epoch_750_seed2.mid (deflated 71%)\n",
            "  adding: content/midi_results/CNN_epoch_700_seed9.mid (deflated 82%)\n",
            "  adding: content/midi_results/CNN_epoch_800_seed4.mid (deflated 32%)\n",
            "  adding: content/midi_results/CNN_epoch_750_seed4.mid (deflated 50%)\n",
            "  adding: content/midi_results/CNN_epoch_200_seed4.mid (deflated 62%)\n",
            "  adding: content/midi_results/CNN_epoch_150_seed4.mid (deflated 59%)\n",
            "  adding: content/midi_results/CNN_epoch_900_seed0.mid (deflated 36%)\n",
            "  adding: content/midi_results/CNN_epoch_50_seed6.mid (deflated 72%)\n",
            "  adding: content/midi_results/CNN_epoch_500_seed4.mid (deflated 57%)\n",
            "  adding: content/midi_results/CNN_epoch_0_seed7.mid (deflated 51%)\n",
            "  adding: content/midi_results/CNN_epoch_300_seed8.mid (deflated 73%)\n",
            "  adding: content/midi_results/CNN_epoch_750_seed8.mid (deflated 45%)\n",
            "  adding: content/midi_results/CNN_epoch_450_seed9.mid (deflated 81%)\n",
            "  adding: content/midi_results/CNN_epoch_0_seed1.mid (deflated 60%)\n",
            "  adding: content/midi_results/CNN_epoch_250_seed5.mid (deflated 82%)\n",
            "  adding: content/midi_results/CNN_epoch_0_seed2.mid (deflated 55%)\n",
            "  adding: content/midi_results/CNN_epoch_450_seed0.mid (deflated 76%)\n",
            "  adding: content/midi_results/CNN_epoch_400_seed8.mid (deflated 85%)\n",
            "  adding: content/midi_results/CNN_epoch_650_seed7.mid (deflated 11%)\n",
            "  adding: content/midi_results/CNN_epoch_750_seed3.mid (deflated 47%)\n",
            "  adding: content/midi_results/CNN_epoch_350_seed7.mid (deflated 64%)\n",
            "  adding: content/midi_results/CNN_epoch_600_seed9.mid (deflated 77%)\n",
            "  adding: content/midi_results/CNN_epoch_550_seed5.mid (deflated 72%)\n",
            "  adding: content/midi_results/CNN_epoch_800_seed2.mid (deflated 62%)\n",
            "  adding: content/midi_results/CNN_epoch_200_seed5.mid (deflated 81%)\n",
            "  adding: content/midi_results/CNN_epoch_950_seed7.mid (deflated 13%)\n",
            "  adding: content/midi_results/CNN_epoch_850_seed4.mid (deflated 29%)\n",
            "  adding: content/midi_results/CNN_epoch_750_seed9.mid (deflated 55%)\n",
            "  adding: content/midi_results/CNN_epoch_50_seed5.mid (deflated 70%)\n",
            "  adding: content/midi_results/CNN_epoch_700_seed4.mid (deflated 47%)\n",
            "  adding: content/midi_results/CNN_epoch_150_seed5.mid (deflated 78%)\n",
            "  adding: content/midi_results/CNN_epoch_500_seed5.mid (deflated 83%)\n",
            "  adding: content/midi_results/CNN_epoch_250_seed0.mid (deflated 77%)\n",
            "  adding: content/midi_results/CNN_epoch_500_seed7.mid (deflated 18%)\n",
            "  adding: content/midi_results/CNN_epoch_100_seed2.mid (deflated 73%)\n",
            "  adding: content/midi_results/CNN_epoch_550_seed6.mid (deflated 72%)\n",
            "  adding: content/midi_results/CNN_epoch_550_seed3.mid (deflated 70%)\n",
            "  adding: content/midi_results/CNN_epoch_500_seed1.mid (deflated 57%)\n",
            "  adding: content/midi_results/CNN_epoch_250_seed1.mid (deflated 66%)\n",
            "  adding: content/midi_results/CNN_epoch_450_seed4.mid (deflated 49%)\n",
            "  adding: content/midi_results/CNN_epoch_400_seed1.mid (deflated 50%)\n",
            "  adding: content/midi_results/CNN_epoch_700_seed8.mid (deflated 70%)\n",
            "  adding: content/midi_results/CNN_epoch_100_seed4.mid (deflated 50%)\n",
            "  adding: content/midi_results/CNN_epoch_150_seed6.mid (deflated 71%)\n",
            "  adding: content/midi_results/CNN_epoch_650_seed4.mid (deflated 35%)\n",
            "  adding: content/midi_results/CNN_epoch_600_seed7.mid (deflated 50%)\n",
            "  adding: content/midi_results/CNN_epoch_200_seed7.mid (deflated 59%)\n",
            "  adding: content/midi_results/CNN_epoch_100_seed8.mid (deflated 75%)\n",
            "  adding: content/midi_results/CNN_epoch_550_seed2.mid (deflated 75%)\n",
            "  adding: content/midi_results/CNN_epoch_600_seed3.mid (deflated 67%)\n",
            "  adding: content/midi_results/CNN_epoch_100_seed7.mid (deflated 64%)\n",
            "  adding: content/midi_results/CNN_epoch_150_seed0.mid (deflated 78%)\n",
            "  adding: content/midi_results/CNN_epoch_700_seed1.mid (deflated 52%)\n",
            "  adding: content/midi_results/CNN_epoch_550_seed7.mid (deflated 36%)\n",
            "  adding: content/midi_results/CNN_epoch_450_seed5.mid (deflated 79%)\n",
            "  adding: content/midi_results/CNN_epoch_50_seed8.mid (deflated 76%)\n",
            "  adding: content/midi_results/CNN_epoch_50_seed3.mid (deflated 73%)\n",
            "  adding: content/midi_results/CNN_epoch_350_seed1.mid (deflated 58%)\n",
            "  adding: content/midi_results/CNN_epoch_100_seed0.mid (deflated 69%)\n",
            "  adding: content/midi_results/CNN_epoch_600_seed0.mid (deflated 71%)\n",
            "  adding: content/midi_results/CNN_epoch_600_seed8.mid (deflated 71%)\n",
            "  adding: content/midi_results/CNN_epoch_600_seed6.mid (deflated 70%)\n",
            "  adding: content/midi_results/CNN_epoch_150_seed8.mid (deflated 84%)\n",
            "  adding: content/midi_results/CNN_epoch_50_seed1.mid (deflated 74%)\n",
            "  adding: content/midi_results/CNN_epoch_950_seed2.mid (deflated 61%)\n",
            "  adding: content/midi_results/CNN_epoch_900_seed4.mid (deflated 37%)\n",
            "  adding: content/midi_results/CNN_epoch_0_seed3.mid (deflated 50%)\n",
            "  adding: content/midi_results/CNN_epoch_700_seed7.mid (deflated 43%)\n",
            "  adding: content/midi_results/CNN_epoch_100_seed5.mid (deflated 79%)\n",
            "  adding: content/midi_results/CNN_epoch_450_seed3.mid (deflated 71%)\n",
            "  adding: content/midi_results/CNN_epoch_950_seed3.mid (deflated 41%)\n",
            "  adding: content/midi_results/CNN_epoch_0_seed6.mid (deflated 50%)\n",
            "  adding: content/midi_results/CNN_epoch_600_seed1.mid (deflated 57%)\n"
          ],
          "name": "stdout"
        }
      ]
    }
  ]
}