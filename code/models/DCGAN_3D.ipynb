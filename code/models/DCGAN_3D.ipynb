{
  "nbformat": 4,
  "nbformat_minor": 0,
  "metadata": {
    "colab": {
      "name": "DCGAN_3D_2.ipynb",
      "provenance": [],
      "collapsed_sections": [],
      "toc_visible": true
    },
    "kernelspec": {
      "name": "python3",
      "display_name": "Python 3"
    },
    "accelerator": "GPU"
  },
  "cells": [
    {
      "source": [
        "To use this notebook, use classical3D.zip or jazz3D.zip, obtained with the preprocessing file"
      ],
      "cell_type": "markdown",
      "metadata": {
        "id": "SBNh2uGSBVcZ"
      }
    },
    {
      "cell_type": "markdown",
      "metadata": {
        "id": "sJwqV6jdCEdR"
      },
      "source": [
        "# Import and dataprocessing\r\n"
      ]
    },
    {
      "cell_type": "code",
      "metadata": {
        "colab": {
          "base_uri": "https://localhost:8080/"
        },
        "id": "HmCW0cV6BYJv",
        "outputId": "6dc798e5-0aff-4175-c2b7-72113329038e"
      },
      "source": [
        "!pip install pretty_midi"
      ],
      "execution_count": null,
      "outputs": [
        {
          "output_type": "stream",
          "text": [
            "Collecting pretty_midi\n",
            "\u001b[?25l  Downloading https://files.pythonhosted.org/packages/bc/8e/63c6e39a7a64623a9cd6aec530070c70827f6f8f40deec938f323d7b1e15/pretty_midi-0.2.9.tar.gz (5.6MB)\n",
            "\u001b[K     |████████████████████████████████| 5.6MB 3.4MB/s \n",
            "\u001b[?25hRequirement already satisfied: numpy>=1.7.0 in /usr/local/lib/python3.7/dist-packages (from pretty_midi) (1.19.5)\n",
            "Collecting mido>=1.1.16\n",
            "\u001b[?25l  Downloading https://files.pythonhosted.org/packages/20/0a/81beb587b1ae832ea6a1901dc7c6faa380e8dd154e0a862f0a9f3d2afab9/mido-1.2.9-py2.py3-none-any.whl (52kB)\n",
            "\u001b[K     |████████████████████████████████| 61kB 7.8MB/s \n",
            "\u001b[?25hRequirement already satisfied: six in /usr/local/lib/python3.7/dist-packages (from pretty_midi) (1.15.0)\n",
            "Building wheels for collected packages: pretty-midi\n",
            "  Building wheel for pretty-midi (setup.py) ... \u001b[?25l\u001b[?25hdone\n",
            "  Created wheel for pretty-midi: filename=pretty_midi-0.2.9-cp37-none-any.whl size=5591954 sha256=4c55caecee8c5c51d4491d599c1a7fa180eef1a1cb0f7ff5a22802d995395f83\n",
            "  Stored in directory: /root/.cache/pip/wheels/4c/a1/c6/b5697841db1112c6e5866d75a6b6bf1bef73b874782556ba66\n",
            "Successfully built pretty-midi\n",
            "Installing collected packages: mido, pretty-midi\n",
            "Successfully installed mido-1.2.9 pretty-midi-0.2.9\n"
          ],
          "name": "stdout"
        }
      ]
    },
    {
      "cell_type": "code",
      "metadata": {
        "colab": {
          "base_uri": "https://localhost:8080/"
        },
        "id": "ME9fhFSkBYMH",
        "outputId": "3d4a8843-1609-46df-a7f8-a9ed8a6c3050"
      },
      "source": [
        "import random\r\n",
        "import os\r\n",
        "import pretty_midi\r\n",
        "import numpy as np\r\n",
        "import matplotlib.pyplot as plt\r\n",
        "import seaborn as sns\r\n",
        "\r\n",
        "\r\n",
        "import torch\r\n",
        "import torch.nn as nn\r\n",
        "import torch.optim as optim\r\n",
        "import torch.nn.functional as F\r\n",
        "from torch.autograd import Variable\r\n",
        "from torch.utils.data import TensorDataset\r\n",
        "\r\n",
        "import random as rd\r\n",
        "import copy\r\n",
        "\r\n",
        "# we use GPU if available, otherwise CPU\r\n",
        "device_to_use = \"cuda:0\" if torch.cuda.is_available() else \"cpu\"\r\n",
        "device = torch.device(device_to_use)\r\n",
        "print(f\"Using {device_to_use} device\")\r\n"
      ],
      "execution_count": null,
      "outputs": [
        {
          "output_type": "stream",
          "text": [
            "Using cuda:0 device\n"
          ],
          "name": "stdout"
        }
      ]
    },
    {
      "cell_type": "code",
      "metadata": {
        "id": "LnWn1U4rBYOX"
      },
      "source": [
        "!unzip \"classical3D.zip\""
      ],
      "execution_count": null,
      "outputs": []
    },
    {
      "cell_type": "code",
      "metadata": {
        "id": "vDxlf_J0uRMr"
      },
      "source": [
        "!unzip \"jazz3D.zip\""
      ],
      "execution_count": null,
      "outputs": []
    },
    {
      "cell_type": "code",
      "metadata": {
        "id": "fx8wM47LBYSw"
      },
      "source": [
        "def get_samples(style=\"J\", length=64, n=1000, random=False, min_note_per_sample=100):\r\n",
        "    \"\"\"Return the preprocessed samples\r\n",
        "\r\n",
        "    Parameters\r\n",
        "    ----------\r\n",
        "    style : str, optional\r\n",
        "        Style of the music, one of {\"J\", \"C\"} (for \"Jazz\" and \"Classic\"), by default \"J\"\r\n",
        "    length : int, optional\r\n",
        "        The length in time steps of each samples\r\n",
        "    n : int, optional\r\n",
        "        Number of samples which will be returned, by default 100\r\n",
        "    random : bool, optional\r\n",
        "        Whether to randomize the samples or not, by default False\r\n",
        "\r\n",
        "    Returns\r\n",
        "    -------\r\n",
        "    List (of Numpy arrays)\r\n",
        "        List of samples\r\n",
        "    \"\"\"\r\n",
        "\r\n",
        "    folder = \"\"\r\n",
        "    if style == \"J\":\r\n",
        "      folder = \"content/jazz3D\"\r\n",
        "    \r\n",
        "    elif style == \"C\":\r\n",
        "      folder = \"content/classical3D\"\r\n",
        "\r\n",
        "    else:\r\n",
        "      raise Exception(\"'style' must be one of {'J', 'C'}\")\r\n",
        "   \r\n",
        "      \r\n",
        "    list_filenames = os.listdir(folder)\r\n",
        "    nb_samples_per_file = max(int(n/len(list_filenames)), 1)\r\n",
        "\r\n",
        "    samples = []\r\n",
        "    for filename in list_filenames:\r\n",
        "      if filename[-3:] ==\"npy\":\r\n",
        "         \r\n",
        "          \r\n",
        "        filepath = folder + \"/\" + filename\r\n",
        "        \r\n",
        "\r\n",
        "        all_file = np.load(filepath).astype(int)\r\n",
        "        all_file_size = len(all_file)\r\n",
        "\r\n",
        "        for k in range(nb_samples_per_file):\r\n",
        "          first_index = rd.randint(0, int((all_file_size-length-1)/4))\r\n",
        "          sample = all_file[4*first_index:4*first_index+length,:,0:2]\r\n",
        "          while sample.sum() < min_note_per_sample:\r\n",
        "            first_index = rd.randint(0, int((all_file_size-length-1)/4))\r\n",
        "            sample = all_file[4*first_index:4*first_index+length,:,0:2]\r\n",
        "\r\n",
        "\r\n",
        "          samples.append(sample.reshape((1, 64 , 84, 2)))\r\n",
        "          \r\n",
        "    return np.vstack(samples)\r\n",
        "\r\n",
        "\r\n"
      ],
      "execution_count": null,
      "outputs": []
    },
    {
      "cell_type": "markdown",
      "metadata": {
        "id": "pQUfNfD_LMpx"
      },
      "source": [
        "# Creation of the model\r\n"
      ]
    },
    {
      "cell_type": "code",
      "metadata": {
        "id": "Yj5uAcenDNer"
      },
      "source": [
        "def noise(size):\r\n",
        "    '''\r\n",
        "    Generates a 1-d vector of gaussian sampled random values\r\n",
        "    '''\r\n",
        "    n = Variable(torch.randn(size, batch_size))\r\n",
        "    return n"
      ],
      "execution_count": null,
      "outputs": []
    },
    {
      "cell_type": "code",
      "metadata": {
        "id": "Ak0HaHgnDNg9"
      },
      "source": [
        "latent_dim = 100\r\n",
        "\r\n",
        "class CNNGenerator_3D(nn.Module):\r\n",
        "    def __init__(self, deepth):\r\n",
        "        super(CNNGenerator_3D, self).__init__()\r\n",
        "        n_features = latent_dim\r\n",
        "   \r\n",
        "        # Latent vector going into a convolution\r\n",
        "        self.convt1 =  nn.ConvTranspose3d(latent_dim, deepth*8, (1,4, 4), (1,1,1), 0, bias=False)\r\n",
        "        self.batchnorm1 = nn.BatchNorm3d(deepth*8)\r\n",
        "\r\n",
        "        # state size : (deepth*8, 1, 4, 4)\r\n",
        "        self.convt2 = nn.ConvTranspose3d(deepth*8, deepth*4, (1,4,4), (1,2,2), (0,1,1), bias=False)\r\n",
        "        self.batchnorm2 = nn.BatchNorm3d(deepth*4)\r\n",
        "\r\n",
        "        #state size : (deepth*4,1, 8, 8)\r\n",
        "        self.convt3 = nn.ConvTranspose3d(deepth*4, deepth*2, (1,4,2),(1,2,3), (0,1,1),bias=False)\r\n",
        "        self.batchnorm3 = nn.BatchNorm3d(deepth*2)\r\n",
        "\r\n",
        "        #state size : (deepth*2,1, 16, 21)\r\n",
        "        self.convt4 = nn.ConvTranspose3d(deepth*2, deepth, (1,4,4),(1,2,2), (0,1,1),bias=False)\r\n",
        "        self.batchnorm4 = nn.BatchNorm3d(deepth)\r\n",
        "\r\n",
        "        #state size : (deepth,1 32, 42)\r\n",
        "        self.convt5 = nn.ConvTranspose3d(deepth,1, (2,4,4),(1,2,2), (0,1,1),bias=False)\r\n",
        "\r\n",
        "    def forward(self, x):\r\n",
        "        x = self.convt1(x)\r\n",
        "        x = self.batchnorm1(x)\r\n",
        "        x = F.leaky_relu(x)\r\n",
        "        x = self.convt2(x)\r\n",
        "        x = self.batchnorm2(x)\r\n",
        "        x = F.leaky_relu(x)\r\n",
        "        x = self.convt3(x)\r\n",
        "        x = self.batchnorm3(x)\r\n",
        "        x = F.leaky_relu(x)\r\n",
        "        x = self.convt4(x)\r\n",
        "        x = self.batchnorm4(x)\r\n",
        "        x = F.leaky_relu(x)\r\n",
        "        x = self.convt5(x)\r\n",
        "        x = F.sigmoid(x)\r\n",
        "        return x"
      ],
      "execution_count": null,
      "outputs": []
    },
    {
      "cell_type": "code",
      "metadata": {
        "id": "C5M42ObXLoK2"
      },
      "source": [
        "class CNNDiscriminator3D(nn.Module):\r\n",
        "    def __init__(self):\r\n",
        "        super(CNNDiscriminator3D, self).__init__()\r\n",
        "\r\n",
        "        self.conv_1 = nn.Conv3d(in_channels=1,out_channels=32,kernel_size=(1,2,2), stride=(1,2,2))\r\n",
        "        self.drop1 = nn.Dropout(0.3)\r\n",
        "\r\n",
        "        # state_size (32,2,32,42)\r\n",
        "        self.conv_2 = nn.Conv3d(in_channels=32,out_channels=64,kernel_size=(1,2,2), stride=(1,2,2))\r\n",
        "        self.drop2 = nn.Dropout(0.3)\r\n",
        "\r\n",
        "        # state_size (64,2,16,21)\r\n",
        "        self.conv_3 = nn.Conv3d(in_channels=64,out_channels=128,kernel_size=(2,16,21), stride=(1,1,1))\r\n",
        "        self.drop3 = nn.Dropout(0.3)\r\n",
        "\r\n",
        "        self.fc_out = nn.Linear(128, 1)\r\n",
        "        \r\n",
        "    def forward(self, x):\r\n",
        "        x = self.conv_1(x)\r\n",
        "        x = self.drop1(x)\r\n",
        "        x = F.relu(x)\r\n",
        "        x = self.conv_2(x)\r\n",
        "        x = self.drop2(x)\r\n",
        "        x = F.relu(x)\r\n",
        "        x = self.conv_3(x)\r\n",
        "        x = self.drop3(x)\r\n",
        "        x = F.relu(x)\r\n",
        "        x = x.view(x.size()[0],128)\r\n",
        "        x = F.sigmoid(self.fc_out(x))\r\n",
        "        return x\r\n",
        "\r\n",
        "    def load(self, backup):\r\n",
        "        for m_from, m_to in zip(backup.modules(), self.modules()):\r\n",
        "             if isinstance(m_to, nn.Linear) or isinstance(m_to, nn.Conv3d):\r\n",
        "                m_to.weight.data = m_from.weight.data.clone()\r\n",
        "                if m_to.bias is not None:\r\n",
        "                    m_to.bias.data = m_from.bias.data.clone()"
      ],
      "execution_count": null,
      "outputs": []
    },
    {
      "cell_type": "code",
      "metadata": {
        "id": "xZjybhIZDNlf"
      },
      "source": [
        "def get_dist_matrix(numpy_array_data):\r\n",
        "  dist = 0\r\n",
        "  counter = 0\r\n",
        "  for i in range(len(numpy_array_data)):\r\n",
        "    matrix_i = numpy_array_data[i]\r\n",
        "    for j in range(i+1, len(numpy_array_data)):\r\n",
        "      matrix_j = numpy_array_data[j]\r\n",
        "      counter+=1\r\n",
        "\r\n",
        "      dist += np.abs(matrix_i-matrix_j).sum()\r\n",
        "  \r\n",
        "  return dist/counter\r\n"
      ],
      "execution_count": null,
      "outputs": []
    },
    {
      "cell_type": "markdown",
      "metadata": {
        "id": "Gk78EaQFLywf"
      },
      "source": [
        "# Training"
      ]
    },
    {
      "cell_type": "code",
      "metadata": {
        "id": "bheHNLKJL04n"
      },
      "source": [
        "n = 20000\r\n",
        "batch_size = 16\r\n",
        "data = get_samples(style=\"J\", n=n, random=True)\r\n",
        "dataset = TensorDataset(torch.Tensor(data).type(torch.float), torch.Tensor(np.ones((data.shape[0], 1))).type(torch.int64))\r\n",
        "loader = torch.utils.data.DataLoader(dataset, shuffle=True, batch_size=batch_size)"
      ],
      "execution_count": null,
      "outputs": []
    },
    {
      "cell_type": "code",
      "metadata": {
        "id": "s7r57N5xL08N"
      },
      "source": [
        "sns.displot(data[:,:,:,0].flatten(), kind=\"kde\")\r\n",
        "sns.displot(data[:,:,:,1].flatten(), kind=\"kde\")"
      ],
      "execution_count": null,
      "outputs": []
    },
    {
      "cell_type": "code",
      "metadata": {
        "id": "YtnbUr_aL0-W"
      },
      "source": [
        "n_epochs = 300\r\n",
        "\r\n",
        "G = CNNGenerator_3D(16).to(device)\r\n",
        "D = CNNDiscriminator3D().to(device)\r\n",
        "\r\n",
        "loss = nn.BCELoss()\r\n",
        "d_optimizer = optim.SGD(D.parameters(), lr=1e-3, momentum=0.5)\r\n",
        "# g_optimizer = optim.SGD(G.parameters(), lr=1e-3, momentum=0.5)\r\n",
        "g_optimizer = optim.Adam(G.parameters(), lr=1e-3)"
      ],
      "execution_count": null,
      "outputs": []
    },
    {
      "cell_type": "code",
      "metadata": {
        "id": "IODmX51BL9pP"
      },
      "source": [
        "nb_landmark_seeds = 10\r\n",
        "landmark_seeds = Variable(torch.FloatTensor(torch.randn(nb_landmark_seeds, latent_dim))).view(nb_landmark_seeds,latent_dim, 1,1,1 )"
      ],
      "execution_count": null,
      "outputs": []
    },
    {
      "cell_type": "code",
      "metadata": {
        "colab": {
          "base_uri": "https://localhost:8080/",
          "height": 1000
        },
        "id": "uYaSS3nUL_YH",
        "outputId": "f377c0dc-e179-429f-9ca1-e81a3b6fd518"
      },
      "source": [
        "fake_data_list = []\r\n",
        "landmark_seeds_data_list = []\r\n",
        "\r\n",
        "nb_roll = 2\r\n",
        "\r\n",
        "def extract(v):\r\n",
        "    return v.data.storage().tolist()\r\n",
        "epochs = []\r\n",
        "d_fake_errs = []\r\n",
        "d_real_errs = []\r\n",
        "g_errs = []\r\n",
        "\r\n",
        "# d_avg_notes = 0\r\n",
        "\r\n",
        "for epoch in range(n_epochs):\r\n",
        "    # for _ in range(20):  # train D for 20 steps\r\n",
        "    for batch_idx, sample in enumerate(loader):\r\n",
        "\r\n",
        "      ####### D_LOOP #########\r\n",
        "\r\n",
        "    # 1. Train D on real+fake\r\n",
        "      d_optimizer.zero_grad() \r\n",
        "      inputs, labels = sample\r\n",
        "      N = len(inputs)\r\n",
        "      inputs_real_data, labels_real_data = inputs.to(device), labels.to(device)\r\n",
        "      inputs_real_data = inputs_real_data.permute(0,3,1,2)\r\n",
        "      inputs_real_data = inputs_real_data.view((len(inputs),1,2,64,84))\r\n",
        "\r\n",
        "    #  1A: Train D on real\r\n",
        "      d_real_decision = D(inputs_real_data)\r\n",
        "\r\n",
        "      d_real_error = loss(\r\n",
        "            d_real_decision, Variable(torch.ones([N, 1])).to(device)\r\n",
        "        )  # ones = true\r\n",
        "      d_real_error.backward()  # compute/store gradients, but don't change params\r\n",
        "\r\n",
        "    #  1B: Train D on fake\r\n",
        "      d_gen_seed = Variable(torch.FloatTensor(torch.randn(N, latent_dim))).to(\r\n",
        "            device\r\n",
        "        )\r\n",
        "      d_gen_seed = d_gen_seed.view(N,latent_dim,1,1,1)\r\n",
        "      d_fake_data = G(d_gen_seed).detach()  # detach to avoid training G on these labels\r\n",
        "      d_fake_decision = D(d_fake_data)\r\n",
        "      d_fake_error = loss(\r\n",
        "            d_fake_decision, Variable(torch.zeros([N, 1]).to(device))\r\n",
        "        )  # zeros = fake\r\n",
        "\r\n",
        "\r\n",
        "      dre, dfe = extract(d_real_error)[0], extract(d_fake_error)[0]\r\n",
        "      d_fake_error.backward()\r\n",
        "      d_optimizer.step()  # Only optimizes D's parameters; changes based on stored gradients from backward()\r\n",
        "\r\n",
        "      ####### GET GEN INPUT ####\r\n",
        "      G.zero_grad()\r\n",
        "\r\n",
        "      g_gen_seed = Variable(torch.FloatTensor(torch.randn(N, latent_dim))).to(\r\n",
        "                device\r\n",
        "            )\r\n",
        "      g_gen_seed = g_gen_seed.view(N,latent_dim,1,1,1)\r\n",
        "      \r\n",
        "\r\n",
        "      ###### D_ROLL LOOP #####\r\n",
        "\r\n",
        "      backup = copy.deepcopy(D)\r\n",
        "      for i in range(nb_roll):\r\n",
        "        d_optimizer.zero_grad()\r\n",
        "        ### Train D on Real ###\r\n",
        "        \r\n",
        "        d_real_decision = D(inputs_real_data)\r\n",
        "        d_real_error = loss(\r\n",
        "            d_real_decision, Variable(torch.ones([N, 1])).to(device)\r\n",
        "        )  # ones = true\r\n",
        "        # d_real_error.backward(create_graph=True)\r\n",
        "        d_real_error.backward()\r\n",
        "\r\n",
        "        ### Train D on Fake ###\r\n",
        "        with torch.no_grad():\r\n",
        "          d_fake_data = G(d_gen_seed).detach()  # detach to avoid training G on these labels\r\n",
        "        d_fake_decision = D(d_fake_data)\r\n",
        "        d_fake_error = loss(\r\n",
        "              d_fake_decision, Variable(torch.zeros([N, 1]).to(device))\r\n",
        "          )  # zeros = fake\r\n",
        "        d_fake_error.backward()\r\n",
        "        d_optimizer.step()\r\n",
        "      \r\n",
        "      ##### TRAIN GEN ####\r\n",
        "      \r\n",
        "      g_fake_data = G(g_gen_seed)\r\n",
        "      dg_fake_decision = D(g_fake_data)\r\n",
        "      g_error = loss(\r\n",
        "                dg_fake_decision, Variable(torch.ones([N, 1]).to(device))\r\n",
        "            ) \r\n",
        "\r\n",
        "      g_error.backward()\r\n",
        "      g_optimizer.step()\r\n",
        "\r\n",
        "      ge = extract(g_error)[0]\r\n",
        "\r\n",
        "\r\n",
        "      #### UNROLL D ####\r\n",
        "      D.load(backup)\r\n",
        "      del backup\r\n",
        "\r\n",
        "      epochs.append(epoch)\r\n",
        "      d_fake_errs.append(dfe)\r\n",
        "      d_real_errs.append(dre)\r\n",
        "      g_errs.append(ge)\r\n",
        "\r\n",
        "    if epoch % 5 == 0:\r\n",
        "      print(\r\n",
        "            \"Epoch %s: D (%1.4f real_err, %1.4f fake_err) G (%1.4f err) \"\r\n",
        "            % (epoch, dre, dfe, ge)\r\n",
        "        )\r\n",
        "      g_fake_data_landmarks = G(landmark_seeds.to(device))\r\n",
        "      numpy_fake_data_landmarks = g_fake_data_landmarks.cpu().detach().numpy()\r\n",
        "      nb_notes_hit_per_data = np.zeros(len(numpy_fake_data_landmarks))\r\n",
        "      nb_notes_hold_per_data = np.zeros(len(numpy_fake_data_landmarks))\r\n",
        "      for i in range(len(numpy_fake_data_landmarks)):\r\n",
        "        nb_notes_hit_per_data[i] = numpy_fake_data_landmarks[i][0][0].sum()/64\r\n",
        "        nb_notes_hold_per_data[i] = numpy_fake_data_landmarks[i][0][1].sum()/64\r\n",
        "\r\n",
        "      mean_notes_hit = nb_notes_hit_per_data.mean()\r\n",
        "      var_notes_hit = np.var(nb_notes_hit_per_data)\r\n",
        "\r\n",
        "      mean_notes_hold = nb_notes_hold_per_data.mean()\r\n",
        "      var_notes_hold = np.var(nb_notes_hold_per_data)\r\n",
        "\r\n",
        "\r\n",
        "      print(\"Generated data:\", f\"\\nMin value: {numpy_fake_data_landmarks.min()} / Max value: {numpy_fake_data_landmarks.max()}\")\r\n",
        "      print(f\"Note played simultaneously for generated data : layer 0 mean/var: {mean_notes_hit:.2f} / {var_notes_hit:.2f} layer 1 mean/var : {mean_notes_hold:.2f} / {var_notes_hold:.2f} \")\r\n",
        "      \r\n",
        "      if epoch % 10 == 0:\r\n",
        "        sns.displot(numpy_fake_data_landmarks[:,:,0,:,:].flatten(), kind=\"kde\")\r\n",
        "        sns.displot(numpy_fake_data_landmarks[:,:,1,:,:].flatten(), kind=\"kde\")\r\n",
        "        plt.show()\r\n",
        "        landmark_seeds_data_list.append((epoch, numpy_fake_data_landmarks))\r\n",
        "\r\n",
        "        landmarks_differences = get_dist_matrix(numpy_fake_data_landmarks)\r\n",
        "        print(f\"Differences between generated data : {landmarks_differences}\")\r\n",
        "\r\n",
        "print(\r\n",
        "    \"Epoch %s: D (%1.4f real_err, %1.4f fake_err) G (%1.4f err) \"\r\n",
        "    % (epoch, dre, dfe, ge)\r\n",
        ")\r\n",
        "\r\n",
        "\r\n"
      ],
      "execution_count": null,
      "outputs": [
        {
          "output_type": "stream",
          "text": [
            "/usr/local/lib/python3.7/dist-packages/torch/nn/functional.py:1639: UserWarning: nn.functional.sigmoid is deprecated. Use torch.sigmoid instead.\n",
            "  warnings.warn(\"nn.functional.sigmoid is deprecated. Use torch.sigmoid instead.\")\n"
          ],
          "name": "stderr"
        },
        {
          "output_type": "stream",
          "text": [
            "Epoch 0: D (0.6786 real_err, 0.6804 fake_err) G (0.6896 err) \n",
            "Generated data: \n",
            "Min value: 6.342003338504279e-15 / Max value: 0.9999809265136719\n",
            "Note played simultaneously for generated data : layer 0 mean/var: 0.06 / 0.00 layer 1 mean/var : 1.64 / 0.03 \n"
          ],
          "name": "stdout"
        },
        {
          "output_type": "display_data",
          "data": {
            "image/png": "[encoded data removed]",
            "text/plain": [
              "<Figure size 360x360 with 1 Axes>"
            ]
          },
          "metadata": {
            "tags": [],
            "needs_background": "light"
          }
        },
        {
          "output_type": "display_data",
          "data": {
            "image/png": "[encoded data removed]",
            "text/plain": [
              "<Figure size 360x360 with 1 Axes>"
            ]
          },
          "metadata": {
            "tags": [],
            "needs_background": "light"
          }
        },
        {
          "output_type": "stream",
          "text": [
            "Differences between generated data : 24.80184653600057\n"
          ],
          "name": "stdout"
        },
        {
          "output_type": "stream",
          "text": [
            "/usr/local/lib/python3.7/dist-packages/torch/nn/functional.py:1639: UserWarning: nn.functional.sigmoid is deprecated. Use torch.sigmoid instead.\n",
            "  warnings.warn(\"nn.functional.sigmoid is deprecated. Use torch.sigmoid instead.\")\n"
          ],
          "name": "stderr"
        },
        {
          "output_type": "stream",
          "text": [
            "Epoch 5: D (0.4288 real_err, 0.3669 fake_err) G (1.4982 err) \n",
            "Generated data: \n",
            "Min value: 0.0 / Max value: 1.0\n",
            "Note played simultaneously for generated data : layer 0 mean/var: 0.01 / 0.00 layer 1 mean/var : 3.42 / 2.46 \n",
            "Epoch 10: D (0.4166 real_err, 0.2347 fake_err) G (1.7075 err) \n",
            "Generated data: \n",
            "Min value: 0.0 / Max value: 1.0\n",
            "Note played simultaneously for generated data : layer 0 mean/var: 0.51 / 0.08 layer 1 mean/var : 1.43 / 0.25 \n"
          ],
          "name": "stdout"
        },
        {
          "output_type": "display_data",
          "data": {
            "image/png": "[encoded data removed]",
            "text/plain": [
              "<Figure size 360x360 with 1 Axes>"
            ]
          },
          "metadata": {
            "tags": [],
            "needs_background": "light"
          }
        },
        {
          "output_type": "display_data",
          "data": {
            "image/png": "[encoded data removed]",
            "text/plain": [
              "<Figure size 360x360 with 1 Axes>"
            ]
          },
          "metadata": {
            "tags": [],
            "needs_background": "light"
          }
        },
        {
          "output_type": "stream",
          "text": [
            "Differences between generated data : 218.45520765516494\n"
          ],
          "name": "stdout"
        },
        {
          "output_type": "stream",
          "text": [
            "/usr/local/lib/python3.7/dist-packages/torch/nn/functional.py:1639: UserWarning: nn.functional.sigmoid is deprecated. Use torch.sigmoid instead.\n",
            "  warnings.warn(\"nn.functional.sigmoid is deprecated. Use torch.sigmoid instead.\")\n"
          ],
          "name": "stderr"
        },
        {
          "output_type": "stream",
          "text": [
            "Epoch 15: D (0.3911 real_err, 0.3729 fake_err) G (1.6751 err) \n",
            "Generated data: \n",
            "Min value: 0.0 / Max value: 1.0\n",
            "Note played simultaneously for generated data : layer 0 mean/var: 0.75 / 0.04 layer 1 mean/var : 1.71 / 0.64 \n",
            "Epoch 20: D (0.6029 real_err, 0.3000 fake_err) G (1.8812 err) \n",
            "Generated data: \n",
            "Min value: 0.0 / Max value: 1.0\n",
            "Note played simultaneously for generated data : layer 0 mean/var: 0.86 / 0.06 layer 1 mean/var : 1.73 / 0.52 \n"
          ],
          "name": "stdout"
        },
        {
          "output_type": "display_data",
          "data": {
            "image/png": "[encoded data removed]",
            "text/plain": [
              "<Figure size 360x360 with 1 Axes>"
            ]
          },
          "metadata": {
            "tags": [],
            "needs_background": "light"
          }
        },
        {
          "output_type": "display_data",
          "data": {
            "image/png": "[encoded data removed]",
            "text/plain": [
              "<Figure size 360x360 with 1 Axes>"
            ]
          },
          "metadata": {
            "tags": [],
            "needs_background": "light"
          }
        },
        {
          "output_type": "stream",
          "text": [
            "Differences between generated data : 315.1791751437717\n"
          ],
          "name": "stdout"
        },
        {
          "output_type": "stream",
          "text": [
            "/usr/local/lib/python3.7/dist-packages/torch/nn/functional.py:1639: UserWarning: nn.functional.sigmoid is deprecated. Use torch.sigmoid instead.\n",
            "  warnings.warn(\"nn.functional.sigmoid is deprecated. Use torch.sigmoid instead.\")\n"
          ],
          "name": "stderr"
        },
        {
          "output_type": "stream",
          "text": [
            "Epoch 25: D (0.3592 real_err, 0.2883 fake_err) G (3.3327 err) \n",
            "Generated data: \n",
            "Min value: 0.0 / Max value: 1.0\n",
            "Note played simultaneously for generated data : layer 0 mean/var: 0.83 / 0.03 layer 1 mean/var : 1.40 / 0.39 \n",
            "Epoch 30: D (0.2505 real_err, 0.0923 fake_err) G (2.0065 err) \n",
            "Generated data: \n",
            "Min value: 0.0 / Max value: 1.0\n",
            "Note played simultaneously for generated data : layer 0 mean/var: 0.96 / 0.10 layer 1 mean/var : 1.81 / 0.50 \n"
          ],
          "name": "stdout"
        },
        {
          "output_type": "display_data",
          "data": {
            "image/png": "[encoded data removed]",
            "text/plain": [
              "<Figure size 360x360 with 1 Axes>"
            ]
          },
          "metadata": {
            "tags": [],
            "needs_background": "light"
          }
        },
        {
          "output_type": "display_data",
          "data": {
            "image/png": "[encoded data removed]",
            "text/plain": [
              "<Figure size 360x360 with 1 Axes>"
            ]
          },
          "metadata": {
            "tags": [],
            "needs_background": "light"
          }
        },
        {
          "output_type": "stream",
          "text": [
            "Differences between generated data : 335.73625318739147\n"
          ],
          "name": "stdout"
        },
        {
          "output_type": "stream",
          "text": [
            "/usr/local/lib/python3.7/dist-packages/torch/nn/functional.py:1639: UserWarning: nn.functional.sigmoid is deprecated. Use torch.sigmoid instead.\n",
            "  warnings.warn(\"nn.functional.sigmoid is deprecated. Use torch.sigmoid instead.\")\n"
          ],
          "name": "stderr"
        },
        {
          "output_type": "stream",
          "text": [
            "Epoch 35: D (0.3703 real_err, 0.1240 fake_err) G (2.3967 err) \n",
            "Generated data: \n",
            "Min value: 0.0 / Max value: 1.0\n",
            "Note played simultaneously for generated data : layer 0 mean/var: 0.86 / 0.02 layer 1 mean/var : 1.76 / 0.19 \n",
            "Epoch 40: D (0.1866 real_err, 0.5133 fake_err) G (3.0801 err) \n",
            "Generated data: \n",
            "Min value: 0.0 / Max value: 1.0\n",
            "Note played simultaneously for generated data : layer 0 mean/var: 1.00 / 0.02 layer 1 mean/var : 1.95 / 0.45 \n"
          ],
          "name": "stdout"
        },
        {
          "output_type": "display_data",
          "data": {
            "image/png": "[encoded data removed]",
            "text/plain": [
              "<Figure size 360x360 with 1 Axes>"
            ]
          },
          "metadata": {
            "tags": [],
            "needs_background": "light"
          }
        },
        {
          "output_type": "display_data",
          "data": {
            "image/png": "[encoded data removed]",
            "text/plain": [
              "<Figure size 360x360 with 1 Axes>"
            ]
          },
          "metadata": {
            "tags": [],
            "needs_background": "light"
          }
        },
        {
          "output_type": "stream",
          "text": [
            "Differences between generated data : 350.94398498535156\n"
          ],
          "name": "stdout"
        },
        {
          "output_type": "stream",
          "text": [
            "/usr/local/lib/python3.7/dist-packages/torch/nn/functional.py:1639: UserWarning: nn.functional.sigmoid is deprecated. Use torch.sigmoid instead.\n",
            "  warnings.warn(\"nn.functional.sigmoid is deprecated. Use torch.sigmoid instead.\")\n"
          ],
          "name": "stderr"
        },
        {
          "output_type": "stream",
          "text": [
            "Epoch 45: D (0.0155 real_err, 0.9778 fake_err) G (5.1971 err) \n",
            "Generated data: \n",
            "Min value: 0.0 / Max value: 1.0\n",
            "Note played simultaneously for generated data : layer 0 mean/var: 1.02 / 0.05 layer 1 mean/var : 1.69 / 0.50 \n",
            "Epoch 50: D (0.1743 real_err, 0.0785 fake_err) G (3.6217 err) \n",
            "Generated data: \n",
            "Min value: 0.0 / Max value: 1.0\n",
            "Note played simultaneously for generated data : layer 0 mean/var: 0.92 / 0.04 layer 1 mean/var : 1.73 / 0.43 \n"
          ],
          "name": "stdout"
        },
        {
          "output_type": "display_data",
          "data": {
            "image/png": "[encoded data removed]",
            "text/plain": [
              "<Figure size 360x360 with 1 Axes>"
            ]
          },
          "metadata": {
            "tags": [],
            "needs_background": "light"
          }
        },
        {
          "output_type": "display_data",
          "data": {
            "image/png": "[encoded data removed]",
            "text/plain": [
              "<Figure size 360x360 with 1 Axes>"
            ]
          },
          "metadata": {
            "tags": [],
            "needs_background": "light"
          }
        },
        {
          "output_type": "stream",
          "text": [
            "Differences between generated data : 321.9556983100043\n"
          ],
          "name": "stdout"
        },
        {
          "output_type": "stream",
          "text": [
            "/usr/local/lib/python3.7/dist-packages/torch/nn/functional.py:1639: UserWarning: nn.functional.sigmoid is deprecated. Use torch.sigmoid instead.\n",
            "  warnings.warn(\"nn.functional.sigmoid is deprecated. Use torch.sigmoid instead.\")\n"
          ],
          "name": "stderr"
        },
        {
          "output_type": "stream",
          "text": [
            "Epoch 55: D (0.0972 real_err, 0.0839 fake_err) G (3.2782 err) \n",
            "Generated data: \n",
            "Min value: 0.0 / Max value: 1.0\n",
            "Note played simultaneously for generated data : layer 0 mean/var: 0.94 / 0.06 layer 1 mean/var : 1.81 / 0.46 \n",
            "Epoch 60: D (0.2368 real_err, 0.1604 fake_err) G (4.4835 err) \n",
            "Generated data: \n",
            "Min value: 0.0 / Max value: 1.0\n",
            "Note played simultaneously for generated data : layer 0 mean/var: 0.95 / 0.06 layer 1 mean/var : 1.95 / 0.44 \n"
          ],
          "name": "stdout"
        },
        {
          "output_type": "display_data",
          "data": {
            "image/png": "[encoded data removed]",
            "text/plain": [
              "<Figure size 360x360 with 1 Axes>"
            ]
          },
          "metadata": {
            "tags": [],
            "needs_background": "light"
          }
        },
        {
          "output_type": "display_data",
          "data": {
            "image/png": "[encoded data removed]",
            "text/plain": [
              "<Figure size 360x360 with 1 Axes>"
            ]
          },
          "metadata": {
            "tags": [],
            "needs_background": "light"
          }
        },
        {
          "output_type": "stream",
          "text": [
            "Differences between generated data : 348.8279527452257\n"
          ],
          "name": "stdout"
        },
        {
          "output_type": "stream",
          "text": [
            "/usr/local/lib/python3.7/dist-packages/torch/nn/functional.py:1639: UserWarning: nn.functional.sigmoid is deprecated. Use torch.sigmoid instead.\n",
            "  warnings.warn(\"nn.functional.sigmoid is deprecated. Use torch.sigmoid instead.\")\n"
          ],
          "name": "stderr"
        },
        {
          "output_type": "error",
          "ename": "KeyboardInterrupt",
          "evalue": "ignored",
          "traceback": [
            "\u001b[0;31m---------------------------------------------------------------------------\u001b[0m",
            "\u001b[0;31mKeyboardInterrupt\u001b[0m                         Traceback (most recent call last)",
            "\u001b[0;32m<ipython-input-24-b9509ce456a4>\u001b[0m in \u001b[0;36m<module>\u001b[0;34m()\u001b[0m\n\u001b[1;32m     98\u001b[0m       \u001b[0mdg_fake_decision\u001b[0m \u001b[0;34m=\u001b[0m \u001b[0mD\u001b[0m\u001b[0;34m(\u001b[0m\u001b[0mg_fake_data\u001b[0m\u001b[0;34m)\u001b[0m\u001b[0;34m\u001b[0m\u001b[0;34m\u001b[0m\u001b[0m\n\u001b[1;32m     99\u001b[0m       g_error = loss(\n\u001b[0;32m--> 100\u001b[0;31m                 \u001b[0mdg_fake_decision\u001b[0m\u001b[0;34m,\u001b[0m \u001b[0mVariable\u001b[0m\u001b[0;34m(\u001b[0m\u001b[0mtorch\u001b[0m\u001b[0;34m.\u001b[0m\u001b[0mones\u001b[0m\u001b[0;34m(\u001b[0m\u001b[0;34m[\u001b[0m\u001b[0mN\u001b[0m\u001b[0;34m,\u001b[0m \u001b[0;36m1\u001b[0m\u001b[0;34m]\u001b[0m\u001b[0;34m)\u001b[0m\u001b[0;34m.\u001b[0m\u001b[0mto\u001b[0m\u001b[0;34m(\u001b[0m\u001b[0mdevice\u001b[0m\u001b[0;34m)\u001b[0m\u001b[0;34m)\u001b[0m\u001b[0;34m\u001b[0m\u001b[0;34m\u001b[0m\u001b[0m\n\u001b[0m\u001b[1;32m    101\u001b[0m             )  # Train G to pretend it's genuine\n\u001b[1;32m    102\u001b[0m \u001b[0;34m\u001b[0m\u001b[0m\n",
            "\u001b[0;31mKeyboardInterrupt\u001b[0m: "
          ]
        }
      ]
    },
    {
      "cell_type": "code",
      "metadata": {
        "colab": {
          "base_uri": "https://localhost:8080/",
          "height": 297
        },
        "id": "AQI0Zw97ii81",
        "outputId": "0a38dd1b-7629-4781-cd42-00c2b20e6d00"
      },
      "source": [
        "plt.plot(epochs, d_fake_errs)\r\n",
        "plt.plot(epochs, d_real_errs)\r\n",
        "plt.plot(epochs, g_errs)\r\n",
        "plt.xlabel(\"epochs\")\r\n",
        "plt.ylabel(\"error\")"
      ],
      "execution_count": null,
      "outputs": [
        {
          "output_type": "execute_result",
          "data": {
            "text/plain": [
              "Text(0, 0.5, 'error')"
            ]
          },
          "metadata": {
            "tags": []
          },
          "execution_count": 26
        },
        {
          "output_type": "display_data",
          "data": {
            "image/png": "[encoded data removed]",
            "text/plain": [
              "<Figure size 432x288 with 1 Axes>"
            ]
          },
          "metadata": {
            "tags": [],
            "needs_background": "light"
          }
        }
      ]
    },
    {
      "cell_type": "markdown",
      "metadata": {
        "id": "fIf4fCVFDPaw"
      },
      "source": [
        "# Export to midi"
      ]
    },
    {
      "cell_type": "code",
      "metadata": {
        "id": "Xqty4cQ4DNn4"
      },
      "source": [
        "def raw3D_to_midi(array, name, precision=0.7):\r\n",
        "    '''\r\n",
        "    params:\r\n",
        "      array : size 64,84,2 that represents the midi\r\n",
        "      name: (str) of the midi file\r\n",
        "      precision: threshold from where we suppose that the note is played/ \r\n",
        "    '''    \r\n",
        "    \r\n",
        "    \r\n",
        "    pm = pretty_midi.PrettyMIDI()\r\n",
        "    # Create an Instrument instance\r\n",
        "    program = pretty_midi.instrument_name_to_program('Cello')\r\n",
        "    piano = pretty_midi.Instrument(program=program)\r\n",
        "    # array = tensor.cpu().detach().numpy()\r\n",
        "    # def _round(x):\r\n",
        "    #     if x < precision:\r\n",
        "    #         return 0\r\n",
        "    #     elif x > 1 - precision:\r\n",
        "    #         return 1\r\n",
        "    #     return x\r\n",
        "    # array = np.array(list(map(lambda x: 0 if x < precision else 1, array)))\r\n",
        "\r\n",
        "    # On choisi le statu de la note pour chaque note/temps\r\n",
        "    # for i in range(len(array)):\r\n",
        "    #   for j in range(len(array[i])):\r\n",
        "    #     note_status = array[i][j]\r\n",
        "    #     selected_status_index = np.argmax(note_status)\r\n",
        "    #     for k in range(2):\r\n",
        "    #       if k == selected_status_index:\r\n",
        "    #         array[i][j][k] = 1\r\n",
        "    #       else:\r\n",
        "    #         array[i][j][k] = 0\r\n",
        "\r\n",
        "    # for time_idx in range(64):\r\n",
        "    #     for pitch_idx in range(84):\r\n",
        "    #         if array[time_idx, pitch_idx] == 1:\r\n",
        "    #             # note = pretty_midi.Note(\r\n",
        "    #             # velocity=100, pitch=25 + pitch_idx, start=1 / 16 * time_idx, end=1 / 16 * (time_idx + 1))\r\n",
        "    #             note = pretty_midi.Note(\r\n",
        "    #             velocity=100, pitch=25 + pitch_idx, start=1 / 8 * time_idx, end=1 / 8 * (time_idx + 1))\r\n",
        "    #             # Add it to our instrument\r\n",
        "    #             piano.notes.append(note)\r\n",
        "\r\n",
        "\r\n",
        "    for pitch_idx in range(84):\r\n",
        "      for time_idx in range(64):\r\n",
        "        is_played = array[time_idx, pitch_idx,0]\r\n",
        "        if is_played > precision:\r\n",
        "          # Means we played a new note\r\n",
        "          end_gap = 1\r\n",
        "\r\n",
        "          if not time_idx == 63:\r\n",
        "\r\n",
        "            while array[time_idx+end_gap, pitch_idx,1] > precision and time_idx+end_gap < 63:\r\n",
        "              end_gap += 1\r\n",
        "          else:\r\n",
        "            end_gap = 1\r\n",
        "          note = pretty_midi.Note(\r\n",
        "            velocity=100, pitch=25 + pitch_idx, start=1 / 8 * time_idx, end=(1 / 8) * (time_idx + end_gap))\r\n",
        "          piano.notes.append(note)\r\n",
        "          \r\n",
        "\r\n",
        "\r\n",
        "\r\n",
        "    \r\n",
        "\r\n",
        "\r\n",
        "    pm.instruments.append(piano)\r\n",
        "    # Write out the MIDI data\r\n",
        "    pm.write(f'midi_results/{name}.mid')"
      ],
      "execution_count": null,
      "outputs": []
    },
    {
      "cell_type": "markdown",
      "metadata": {
        "id": "6eMDvfiqn6yt"
      },
      "source": [
        "Pour récupérer les résultats créer un dossier \"midi_results\""
      ]
    },
    {
      "cell_type": "code",
      "metadata": {
        "id": "1BKpoAbrdWaC"
      },
      "source": [
        "test = landmark_seeds_data_list[-5][1][0]\r\n",
        "test =  np.transpose(test, (0,2,3,1))\r\n"
      ],
      "execution_count": null,
      "outputs": []
    },
    {
      "cell_type": "code",
      "metadata": {
        "id": "dDAHT1jmdWcf"
      },
      "source": [
        "raw3D_to_midi(test[0], \"test\")"
      ],
      "execution_count": null,
      "outputs": []
    },
    {
      "cell_type": "code",
      "metadata": {
        "id": "iOCFvNJweHV4"
      },
      "source": [
        "root_name = \"jazzCNN_2D_\"\r\n",
        "for x in landmark_seeds_data_list:\r\n",
        "  epoch_nb = x[0]\r\n",
        "  data = x[1]\r\n",
        "  for j in range(len(data)):\r\n",
        "    reshaped_data = np.transpose(data[j], (0,2,3,1)).reshape(64,84,2)\r\n",
        "    name = root_name + \"epoch_\" + str(epoch_nb) + \"_seed\" + str(j)\r\n",
        "    raw3D_to_midi(reshaped_data, name, precision=0.7)"
      ],
      "execution_count": null,
      "outputs": []
    },
    {
      "cell_type": "code",
      "metadata": {
        "colab": {
          "base_uri": "https://localhost:8080/"
        },
        "id": "Ld16AGubfMij",
        "outputId": "f5687e32-8a59-43dd-ae09-5b65751ebfa6"
      },
      "source": [
        "!zip -r /content/results_jazzCNN2D_01.zip /content/midi_results"
      ],
      "execution_count": null,
      "outputs": [
        {
          "output_type": "stream",
          "text": [
            "  adding: content/midi_results/ (stored 0%)\n",
            "  adding: content/midi_results/jazzCNN_2D_epoch_60_seed7.mid (deflated 39%)\n",
            "  adding: content/midi_results/jazzCNN_2D_epoch_30_seed1.mid (deflated 45%)\n",
            "  adding: content/midi_results/jazzCNN_2D_epoch_40_seed4.mid (deflated 44%)\n",
            "  adding: content/midi_results/jazzCNN_2D_epoch_10_seed0.mid (deflated 37%)\n",
            "  adding: content/midi_results/jazzsample4.mid (deflated 19%)\n",
            "  adding: content/midi_results/jazzCNN_2D_epoch_40_seed8.mid (deflated 38%)\n",
            "  adding: content/midi_results/jazzCNN_2D_epoch_20_seed7.mid (deflated 45%)\n",
            "  adding: content/midi_results/jazzCNN_2D_epoch_20_seed6.mid (deflated 36%)\n",
            "  adding: content/midi_results/jazzCNN_2D_epoch_10_seed9.mid (deflated 45%)\n",
            "  adding: content/midi_results/jazzCNN_2D_epoch_40_seed2.mid (deflated 38%)\n",
            "  adding: content/midi_results/jazzCNN_2D_epoch_10_seed6.mid (deflated 19%)\n",
            "  adding: content/midi_results/jazzCNN_2D_epoch_10_seed5.mid (deflated 32%)\n",
            "  adding: content/midi_results/jazzCNN_2D_epoch_10_seed8.mid (deflated 44%)\n",
            "  adding: content/midi_results/jazzCNN_2D_epoch_0_seed0.mid (deflated 11%)\n",
            "  adding: content/midi_results/jazzCNN_2D_epoch_50_seed2.mid (deflated 40%)\n",
            "  adding: content/midi_results/jazzCNN_2D_epoch_50_seed5.mid (deflated 32%)\n",
            "  adding: content/midi_results/jazzCNN_2D_epoch_30_seed3.mid (deflated 42%)\n",
            "  adding: content/midi_results/jazzCNN_2D_epoch_0_seed8.mid (deflated 11%)\n",
            "  adding: content/midi_results/jazzCNN_2D_epoch_20_seed2.mid (deflated 44%)\n",
            "  adding: content/midi_results/jazzCNN_2D_epoch_40_seed5.mid (deflated 37%)\n",
            "  adding: content/midi_results/jazzCNN_2D_epoch_50_seed3.mid (deflated 33%)\n",
            "  adding: content/midi_results/jazzCNN_2D_epoch_20_seed9.mid (deflated 30%)\n",
            "  adding: content/midi_results/jazzCNN_2D_epoch_60_seed8.mid (deflated 39%)\n",
            "  adding: content/midi_results/jazzCNN_2D_epoch_60_seed3.mid (deflated 40%)\n",
            "  adding: content/midi_results/jazzsample3.mid (deflated 42%)\n",
            "  adding: content/midi_results/jazzCNN_2D_epoch_0_seed2.mid (deflated 11%)\n",
            "  adding: content/midi_results/jazzCNN_2D_epoch_60_seed5.mid (deflated 29%)\n",
            "  adding: content/midi_results/jazzCNN_2D_epoch_60_seed6.mid (deflated 35%)\n",
            "  adding: content/midi_results/jazzCNN_2D_epoch_0_seed4.mid (deflated 11%)\n",
            "  adding: content/midi_results/jazzCNN_2D_epoch_50_seed6.mid (deflated 31%)\n",
            "  adding: content/midi_results/jazzCNN_2D_epoch_30_seed4.mid (deflated 38%)\n",
            "  adding: content/midi_results/jazzCNN_2D_epoch_10_seed3.mid (deflated 8%)\n",
            "  adding: content/midi_results/jazzCNN_2D_epoch_60_seed1.mid (deflated 34%)\n",
            "  adding: content/midi_results/jazzCNN_2D_epoch_20_seed3.mid (deflated 34%)\n",
            "  adding: content/midi_results/jazzCNN_2D_epoch_30_seed5.mid (deflated 30%)\n",
            "  adding: content/midi_results/jazzCNN_2D_epoch_10_seed4.mid (deflated 43%)\n",
            "  adding: content/midi_results/jazzCNN_2D_epoch_10_seed7.mid (deflated 6%)\n",
            "  adding: content/midi_results/jazzCNN_2D_epoch_60_seed9.mid (deflated 37%)\n",
            "  adding: content/midi_results/jazzCNN_2D_epoch_20_seed1.mid (deflated 49%)\n",
            "  adding: content/midi_results/jazzCNN_2D_epoch_40_seed1.mid (deflated 40%)\n",
            "  adding: content/midi_results/jazzCNN_2D_epoch_50_seed1.mid (deflated 37%)\n",
            "  adding: content/midi_results/jazzCNN_2D_epoch_50_seed4.mid (deflated 45%)\n",
            "  adding: content/midi_results/jazzCNN_2D_epoch_30_seed7.mid (deflated 30%)\n",
            "  adding: content/midi_results/jazzCNN_2D_epoch_40_seed6.mid (deflated 37%)\n",
            "  adding: content/midi_results/jazzCNN_2D_epoch_60_seed0.mid (deflated 46%)\n",
            "  adding: content/midi_results/jazzCNN_2D_epoch_30_seed2.mid (deflated 39%)\n",
            "  adding: content/midi_results/jazzCNN_2D_epoch_30_seed8.mid (deflated 30%)\n",
            "  adding: content/midi_results/jazzCNN_2D_epoch_30_seed0.mid (deflated 32%)\n",
            "  adding: content/midi_results/jazzCNN_2D_epoch_20_seed5.mid (deflated 35%)\n",
            "  adding: content/midi_results/jazzCNN_2D_epoch_30_seed6.mid (deflated 42%)\n",
            "  adding: content/midi_results/jazzCNN_2D_epoch_30_seed9.mid (deflated 34%)\n",
            "  adding: content/midi_results/jazzCNN_2D_epoch_10_seed1.mid (deflated 17%)\n",
            "  adding: content/midi_results/jazzCNN_2D_epoch_0_seed1.mid (deflated 11%)\n",
            "  adding: content/midi_results/jazzCNN_2D_epoch_40_seed7.mid (deflated 34%)\n",
            "  adding: content/midi_results/jazzCNN_2D_epoch_60_seed4.mid (deflated 41%)\n",
            "  adding: content/midi_results/jazzCNN_2D_epoch_60_seed2.mid (deflated 38%)\n",
            "  adding: content/midi_results/jazzCNN_2D_epoch_0_seed6.mid (deflated 11%)\n",
            "  adding: content/midi_results/jazzCNN_2D_epoch_0_seed7.mid (deflated 11%)\n",
            "  adding: content/midi_results/jazzCNN_2D_epoch_10_seed2.mid (deflated 17%)\n",
            "  adding: content/midi_results/jazzCNN_2D_epoch_50_seed8.mid (deflated 31%)\n",
            "  adding: content/midi_results/jazzCNN_2D_epoch_40_seed9.mid (deflated 37%)\n",
            "  adding: content/midi_results/jazzCNN_2D_epoch_20_seed8.mid (deflated 31%)\n",
            "  adding: content/midi_results/jazzCNN_2D_epoch_50_seed7.mid (deflated 38%)\n",
            "  adding: content/midi_results/jazzCNN_2D_epoch_50_seed0.mid (deflated 38%)\n",
            "  adding: content/midi_results/.ipynb_checkpoints/ (stored 0%)\n",
            "  adding: content/midi_results/jazzCNN_2D_epoch_20_seed0.mid (deflated 26%)\n",
            "  adding: content/midi_results/jazzCNN_2D_epoch_0_seed9.mid (deflated 11%)\n",
            "  adding: content/midi_results/jazzCNN_2D_epoch_40_seed3.mid (deflated 38%)\n",
            "  adding: content/midi_results/jazzCNN_2D_epoch_0_seed3.mid (deflated 11%)\n",
            "  adding: content/midi_results/jazzCNN_2D_epoch_20_seed4.mid (deflated 34%)\n",
            "  adding: content/midi_results/jazzCNN_2D_epoch_40_seed0.mid (deflated 38%)\n",
            "  adding: content/midi_results/jazzCNN_2D_epoch_50_seed9.mid (deflated 39%)\n",
            "  adding: content/midi_results/jazzsample2.mid (deflated 51%)\n",
            "  adding: content/midi_results/jazzCNN_2D_epoch_0_seed5.mid (deflated 11%)\n"
          ],
          "name": "stdout"
        }
      ]
    },
    {
      "cell_type": "code",
      "metadata": {
        "id": "4VSU3w9wu4xL"
      },
      "source": [
        "from google.colab import files"
      ],
      "execution_count": null,
      "outputs": []
    },
    {
      "cell_type": "code",
      "metadata": {
        "colab": {
          "base_uri": "https://localhost:8080/",
          "height": 17
        },
        "id": "h8IxRsEPu5Wp",
        "outputId": "c3f5512f-4489-41e3-908f-ee2215cf4c21"
      },
      "source": [
        "files.download('results_jazzCNN2D_01.zip') "
      ],
      "execution_count": null,
      "outputs": [
        {
          "output_type": "display_data",
          "data": {
            "application/javascript": [
              "\n",
              "    async function download(id, filename, size) {\n",
              "      if (!google.colab.kernel.accessAllowed) {\n",
              "        return;\n",
              "      }\n",
              "      const div = document.createElement('div');\n",
              "      const label = document.createElement('label');\n",
              "      label.textContent = `Downloading \"${filename}\": `;\n",
              "      div.appendChild(label);\n",
              "      const progress = document.createElement('progress');\n",
              "      progress.max = size;\n",
              "      div.appendChild(progress);\n",
              "      document.body.appendChild(div);\n",
              "\n",
              "      const buffers = [];\n",
              "      let downloaded = 0;\n",
              "\n",
              "      const channel = await google.colab.kernel.comms.open(id);\n",
              "      // Send a message to notify the kernel that we're ready.\n",
              "      channel.send({})\n",
              "\n",
              "      for await (const message of channel.messages) {\n",
              "        // Send a message to notify the kernel that we're ready.\n",
              "        channel.send({})\n",
              "        if (message.buffers) {\n",
              "          for (const buffer of message.buffers) {\n",
              "            buffers.push(buffer);\n",
              "            downloaded += buffer.byteLength;\n",
              "            progress.value = downloaded;\n",
              "          }\n",
              "        }\n",
              "      }\n",
              "      const blob = new Blob(buffers, {type: 'application/binary'});\n",
              "      const a = document.createElement('a');\n",
              "      a.href = window.URL.createObjectURL(blob);\n",
              "      a.download = filename;\n",
              "      div.appendChild(a);\n",
              "      a.click();\n",
              "      div.remove();\n",
              "    }\n",
              "  "
            ],
            "text/plain": [
              "<IPython.core.display.Javascript object>"
            ]
          },
          "metadata": {
            "tags": []
          }
        },
        {
          "output_type": "display_data",
          "data": {
            "application/javascript": [
              "download(\"download_a37e290a-df63-43bb-8ea5-b53cea082d1e\", \"results_jazzCNN2D_01.zip\", 32094)"
            ],
            "text/plain": [
              "<IPython.core.display.Javascript object>"
            ]
          },
          "metadata": {
            "tags": []
          }
        }
      ]
    },
    {
      "cell_type": "code",
      "metadata": {
        "id": "RB_52G8fE8Vm"
      },
      "source": [],
      "execution_count": null,
      "outputs": []
    }
  ]
}