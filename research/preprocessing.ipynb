{
 "metadata": {
  "language_info": {
   "codemirror_mode": {
    "name": "ipython",
    "version": 3
   },
   "file_extension": ".py",
   "mimetype": "text/x-python",
   "name": "python",
   "nbconvert_exporter": "python",
   "pygments_lexer": "ipython3",
   "version": "3.9.1-final"
  },
  "orig_nbformat": 2,
  "kernelspec": {
   "name": "python3",
   "display_name": "Python 3.9.1 64-bit ('venv')",
   "metadata": {
    "interpreter": {
     "hash": "5c4019d9de05d020dd3ae3346f85c8ffa04708de7b75ed271a2a498f13020e8d"
    }
   }
  }
 },
 "nbformat": 4,
 "nbformat_minor": 2,
 "cells": [
  {
   "cell_type": "code",
   "execution_count": 3,
   "metadata": {},
   "outputs": [
    {
     "output_type": "stream",
     "name": "stdout",
     "text": [
      "183.79970544918237\n[0.09783726200031034, 0.05520668726749244, 0.11395216788142572, 0.07448610780969672, 0.061541528370498706, 0.1684829450385699, 0.02623786572810281, 0.09226783243241045, 0.05251060214117629, 0.06566905511486112, 0.15709882875180964, 0.034709117463645855]\n"
     ]
    }
   ],
   "source": [
    "import pretty_midi\n",
    "# Load MIDI file into PrettyMIDI object\n",
    "\n",
    "DATA_PATH = \"_data/jazz/4thAvenueTheme.mid\"\n",
    "\n",
    "midi_data = pretty_midi.PrettyMIDI(DATA_PATH)\n",
    "\n",
    "# Print an empirical estimate of its global tempo\n",
    "print(midi_data.estimate_tempo())\n",
    "# Compute the relative amount of each semitone across the entire song,\n",
    "# a proxy for key\n",
    "total_velocity = sum(sum(midi_data.get_chroma()))\n",
    "print([sum(semitone)/total_velocity for semitone in midi_data.get_chroma()])\n",
    "# Shift all notes up by 5 semitones\n",
    "# for instrument in midi_data.instruments:\n",
    "#     # Don't want to shift drum notes\n",
    "#     if not instrument.is_drum:\n",
    "#         for note in instrument.notes:\n",
    "#             note.pitch += 5\n",
    "# Synthesize the resulting MIDI data using sine waves\n",
    "audio_data = midi_data.synthesize()"
   ]
  },
  {
   "cell_type": "code",
   "execution_count": 6,
   "metadata": {},
   "outputs": [
    {
     "output_type": "execute_result",
     "data": {
      "text/plain": [
       "(128, 19617)"
      ]
     },
     "metadata": {},
     "execution_count": 6
    }
   ],
   "source": [
    "midi_data.get_piano_roll().shape"
   ]
  }
 ]
}