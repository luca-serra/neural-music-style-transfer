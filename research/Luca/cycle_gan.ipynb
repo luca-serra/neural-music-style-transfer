{
 "metadata": {
  "language_info": {
   "codemirror_mode": {
    "name": "ipython",
    "version": 3
   },
   "file_extension": ".py",
   "mimetype": "text/x-python",
   "name": "python",
   "nbconvert_exporter": "python",
   "pygments_lexer": "ipython3",
   "version": "3.9.1-final"
  },
  "orig_nbformat": 2,
  "kernelspec": {
   "name": "python3",
   "display_name": "Python 3",
   "language": "python"
  }
 },
 "nbformat": 4,
 "nbformat_minor": 2,
 "cells": [
  {
   "source": [
    "# Trying Cycle Gan with Pytorch"
   ],
   "cell_type": "markdown",
   "metadata": {}
  },
  {
   "source": [
    "## Imports"
   ],
   "cell_type": "markdown",
   "metadata": {}
  },
  {
   "cell_type": "code",
   "execution_count": 4,
   "metadata": {},
   "outputs": [],
   "source": [
    "import torch\n",
    "import torch.nn as nn\n",
    "import torch.optim as optim\n",
    "import torch.nn.functional as F\n",
    "from torch.autograd import Variable\n",
    "import torchvision.models as models"
   ]
  },
  {
   "cell_type": "code",
   "execution_count": null,
   "metadata": {},
   "outputs": [],
   "source": [
    "class Generator(nn.Module):\n",
    "    def __init__(self, sz_latent, sz_hidden):\n",
    "        super(Generator, self).__init__()\n",
    "        self.conv_1 = nn.Conv2d(in_channels=1, out_channels=64, kernel_size=7, stride=(1, 1))\n",
    "        self.conv_2 = nn.Conv2d(in_channels=64, out_channels=128, kernel_size=3, stride=(2, 2))\n",
    "        self.conv_3 = nn.Conv2d(in_channels=128, out_channels=256, kernel_size=3, stride=(2, 2))\n",
    "        self.layer_4 = models.resnet18()\n",
    "        self.layer_5 = models.resnet18()  # 10 times..?!\n",
    "        self.conv_m_3 = nn.Conv2d(in_channels=256, out_channels=128, kernel_size=3, stride=(2, 2))\n",
    "        self.conv_m_2 = nn.Conv2d(in_channels=128, out_channels=64, kernel_size=3, stride=(2, 2))\n",
    "        self.conv_m_1 = nn.Conv2d(in_channels=64, out_channels=1, kernel_size=7, stride=(1, 1))\n",
    "\n",
    "    def forward(self, x):\n",
    "        x = F.relu(self.conv_1(x))\n",
    "        x = F.relu(self.conv_2(x))\n",
    "        x = F.relu(self.conv_3(x))\n",
    "        x = F.relu(self.layer_4(x))\n",
    "        x = F.relu(self.layer_5(x))\n",
    "        x = F.relu(self.conv_m_3(x))\n",
    "        x = F.relu(self.conv_m_2(x))\n",
    "        x = F.sigmoid(self.conv_m_1(x))\n",
    "        return x"
   ]
  },
  {
   "cell_type": "code",
   "execution_count": null,
   "metadata": {},
   "outputs": [],
   "source": [
    "class Discriminator(nn.Module):\n",
    "    def __init__(self, sz):\n",
    "        super(Discriminator, self).__init__()\n",
    "        self.conv_1 = nn.Conv2d(in_channels=1, out_channels=64, kernel_size=4, stride=(2, 2))\n",
    "        self.conv_2 = nn.Conv2d(in_channels=64, out_channels=256, kernel_size=4, stride=(2, 2))\n",
    "        self.conv_3 = nn.Conv2d(in_channels=256, out_channels=1, kernel_size=1, stride=(1, 1))\n",
    "        # self.fout = nn.Linear(int(sz / 4), 1)  # output size==1 : raw score\n",
    "\n",
    "    def forward(self, x):\n",
    "        x = F.relu(self.conv_1(x)) # try leaky relu\n",
    "        x = F.relu(self.conv_2(x)) # try leaky relu\n",
    "        x = self.conv_3(x) # try leaky relu\n",
    "        return x"
   ]
  }
 ]
}