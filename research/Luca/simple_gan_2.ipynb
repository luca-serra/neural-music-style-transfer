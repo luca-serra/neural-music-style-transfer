{
  "nbformat": 4,
  "nbformat_minor": 0,
  "metadata": {
    "language_info": {
      "codemirror_mode": {
        "name": "ipython",
        "version": 3
      },
      "file_extension": ".py",
      "mimetype": "text/x-python",
      "name": "python",
      "nbconvert_exporter": "python",
      "pygments_lexer": "ipython3",
      "version": "3.9.1-final"
    },
    "orig_nbformat": 2,
    "kernelspec": {
      "name": "python3",
      "display_name": "Python 3.9.1 64-bit ('venv')",
      "metadata": {
        "interpreter": {
          "hash": "5c4019d9de05d020dd3ae3346f85c8ffa04708de7b75ed271a2a498f13020e8d"
        }
      }
    },
    "colab": {
      "name": "simple_gan.ipynb",
      "provenance": [],
      "collapsed_sections": []
    },
    "accelerator": "GPU"
  },
  "cells": [
    {
      "cell_type": "code",
      "metadata": {
        "id": "7jH_qw58Faid"
      },
      "source": [
        "# !pip install pretty_midi"
      ],
      "execution_count": 2,
      "outputs": []
    },
    {
      "cell_type": "code",
      "metadata": {
        "id": "UX0Cg1_xhDRE"
      },
      "source": [
        "  # from google.colab import drive\n",
        "  # drive.mount('/content/drive')"
      ],
      "execution_count": null,
      "outputs": []
    },
    {
      "cell_type": "code",
      "metadata": {
        "id": "eX37SVCyiPlN",
        "colab": {
          "base_uri": "https://localhost:8080/"
        },
        "outputId": "2be988fb-850a-4f0e-f946-69f19cc3fe4c"
      },
      "source": [
        "# !ls \"/content/drive/My Drive/_data\""
      ],
      "execution_count": null,
      "outputs": [
        {
          "output_type": "stream",
          "text": [
            "ls: cannot access '/content/drive/My Drive/_data': No such file or directory\n"
          ],
          "name": "stdout"
        }
      ]
    },
    {
      "cell_type": "code",
      "metadata": {
        "id": "mnRsGyuneXFq"
      },
      "source": [
        "# !mkdir _data\r\n",
        "# !unzip \"_data.zip\" -d \"_data\""
      ],
      "execution_count": 8,
      "outputs": []
    },
    {
      "cell_type": "code",
      "metadata": {
        "colab": {
          "base_uri": "https://localhost:8080/"
        },
        "id": "jP4O9rMVeiuG",
        "outputId": "05d727be-247c-4fff-e915-1f492b749d0d"
      },
      "source": [
        "!ls"
      ],
      "execution_count": 9,
      "outputs": [
        {
          "output_type": "stream",
          "text": [
            "_data  _data.zip  sample_data\n"
          ],
          "name": "stdout"
        }
      ]
    },
    {
      "cell_type": "code",
      "metadata": {
        "colab": {
          "base_uri": "https://localhost:8080/"
        },
        "id": "55T2mtnjFVo3",
        "outputId": "bd0bb7b1-7ded-4191-da83-dd099fb4701a"
      },
      "source": [
        "import random\n",
        "import os\n",
        "import pretty_midi\n",
        "import time\n",
        "import numpy as np\n",
        "import matplotlib.pyplot as plt\n",
        "import seaborn as sns\n",
        "\n",
        "# torch stuff\n",
        "import torch\n",
        "import torch.nn as nn\n",
        "import torch.optim as optim\n",
        "import torch.nn.functional as F\n",
        "from torch.autograd import Variable\n",
        "from torch.utils.data import TensorDataset\n",
        "\n",
        "# we use GPU if available, otherwise CPU\n",
        "device_to_use = \"cuda:0\" if torch.cuda.is_available() else \"cpu\"\n",
        "device = torch.device(device_to_use)\n",
        "print(f\"Using {device_to_use} device\")\n"
      ],
      "execution_count": 12,
      "outputs": [
        {
          "output_type": "stream",
          "text": [
            "Using cuda:0 device\n"
          ],
          "name": "stdout"
        }
      ]
    },
    {
      "cell_type": "code",
      "metadata": {
        "id": "F4zSLlzxFVo5"
      },
      "source": [
        "DATA_PATH = \"_data\"\n",
        "\n",
        "def get_samples(style=\"J\", train=True, n=100, random=False):\n",
        "    \"\"\"Return the preprocessed samples\n",
        "\n",
        "    Parameters\n",
        "    ----------\n",
        "    style : str, optional\n",
        "        Style of the music, one of {\"J\", \"C\"} (for \"Jazz\" and \"Classic\"), by default \"J\"\n",
        "    train : bool, optional\n",
        "        Whether to choose the train or validation set, by default True\n",
        "    n : int, optional\n",
        "        Number of samples which will be returned, by default 100\n",
        "    random : bool, optional\n",
        "        Whether to randomize the samples or not, by default False\n",
        "\n",
        "    Returns\n",
        "    -------\n",
        "    List (of Numpy arrays)\n",
        "        List of samples\n",
        "    \"\"\"\n",
        "    if style == \"J\":\n",
        "        folder = \"JC_J\"\n",
        "        prefix = \"jazz\"\n",
        "    elif style == \"C\":\n",
        "        folder = \"JC_C\"\n",
        "        prefix = \"classic\"\n",
        "    else:\n",
        "        raise Exception(\"'style' must be one of {'J', 'C'}\")\n",
        "    # folder = \"\"\n",
        "    # prefix = \"jazz\"\n",
        "    train_or_valid = \"train\" if train else \"test\"\n",
        "\n",
        "    nb_samples = sum(\n",
        "        1\n",
        "        for item in os.listdir(f\"{DATA_PATH}/{folder}/{train_or_valid}\")\n",
        "        if os.path.isfile(os.path.join(f\"{DATA_PATH}/{folder}/{train_or_valid}\", item))\n",
        "    )\n",
        "    # nb_samples = 4000\n",
        "    numbers = list(range(1, nb_samples))\n",
        "    if random:\n",
        "        np.random.shuffle(numbers)\n",
        "    numbers = numbers[:n]\n",
        "    samples = []\n",
        "    for i, number in enumerate(numbers):\n",
        "        #{DATA_PATH}/{folder}/{train_or_valid}/\n",
        "        if os.path.isfile(f\"{DATA_PATH}/{folder}/{train_or_valid}/{prefix}_piano_{train_or_valid}_{number}.npy\"):\n",
        "            sample = np.load(\n",
        "                # {DATA_PATH}/{folder}/{train_or_valid}/\n",
        "                f\"{DATA_PATH}/{folder}/{train_or_valid}/{prefix}_piano_{train_or_valid}_{number}.npy\"\n",
        "            )\n",
        "            # samples.append(sample.astype(int).reshape((64 * 84, 1)))\n",
        "            samples.append(sample.astype(int).reshape((1, 64 * 84)))\n",
        "\n",
        "    # return np.column_stack(samples)\n",
        "    return np.vstack(samples)"
      ],
      "execution_count": 13,
      "outputs": []
    },
    {
      "cell_type": "code",
      "metadata": {
        "id": "GSQ8FsD1FVo6"
      },
      "source": [
        "latent_dim = 512\n",
        "\n",
        "class Generator(nn.Module):\n",
        "    def __init__(self):\n",
        "        super(Generator, self).__init__()\n",
        "        n_features = latent_dim\n",
        "        n_out = 64 * 84\n",
        "        \n",
        "        # self.hidden0 = nn.Sequential(\n",
        "        #     nn.Linear(n_features, 256),\n",
        "        #     nn.LeakyReLU(0.2)\n",
        "        # )\n",
        "        # self.hidden1 = nn.Sequential(            \n",
        "        #     nn.Linear(256, 512),\n",
        "        #     nn.LeakyReLU(0.2)\n",
        "        # )\n",
        "        self.hidden0 = nn.Sequential(\n",
        "            nn.Linear(n_features, 1024),\n",
        "            nn.LeakyReLU(0.2)\n",
        "        )\n",
        "        self.hidden1 = nn.Sequential(\n",
        "            nn.Linear(1024, 2048),\n",
        "            nn.LeakyReLU(0.2)\n",
        "        )\n",
        "        \n",
        "        self.out = nn.Sequential(\n",
        "            nn.Linear(2048, n_out),\n",
        "            nn.Sigmoid()\n",
        "        )\n",
        "\n",
        "    def forward(self, x):\n",
        "        x = self.hidden0(x)\n",
        "        x = self.hidden1(x)\n",
        "        # x = self.hidden2(x)\n",
        "        x = self.out(x)\n",
        "        return x"
      ],
      "execution_count": 14,
      "outputs": []
    },
    {
      "cell_type": "code",
      "metadata": {
        "id": "3qtgfl6dFVo7"
      },
      "source": [
        "class Discriminator(nn.Module):\n",
        "    def __init__(self):\n",
        "        super(Discriminator, self).__init__()\n",
        "        n_features = 64 * 84\n",
        "        n_out = 1\n",
        "\n",
        "        self.hidden0 = nn.Sequential( \n",
        "            nn.Linear(n_features, 1024),\n",
        "            nn.LeakyReLU(0.2),\n",
        "            nn.Dropout(0.3)\n",
        "        )\n",
        "        self.hidden1 = nn.Sequential(\n",
        "            nn.Linear(1024, 512),\n",
        "            nn.LeakyReLU(0.2),\n",
        "            nn.Dropout(0.3)\n",
        "        )\n",
        "        self.hidden2 = nn.Sequential(\n",
        "            nn.Linear(512, 256),\n",
        "            nn.LeakyReLU(0.2),\n",
        "            nn.Dropout(0.3)\n",
        "        )\n",
        "        self.out = nn.Sequential(\n",
        "            torch.nn.Linear(256, n_out),\n",
        "            torch.nn.Sigmoid()\n",
        "        )\n",
        "\n",
        "    def forward(self, x):\n",
        "        x = self.hidden0(x)\n",
        "        x = self.hidden1(x)\n",
        "        x = self.hidden2(x)\n",
        "        x = self.out(x)\n",
        "        return x"
      ],
      "execution_count": 15,
      "outputs": []
    },
    {
      "cell_type": "code",
      "metadata": {
        "id": "SEXNXaCRFVo7"
      },
      "source": [
        "n = 1000\n",
        "batch_size = 32\n",
        "data = get_samples(style=\"C\", n=n, random=True)\n",
        "dataset = TensorDataset(torch.Tensor(data).type(torch.float), torch.Tensor(np.ones((data.shape[0], 1))).type(torch.int64))\n",
        "loader = torch.utils.data.DataLoader(dataset, shuffle=True, batch_size=batch_size)"
      ],
      "execution_count": 16,
      "outputs": []
    },
    {
      "cell_type": "code",
      "metadata": {
        "id": "-dOY1c_fFVo7",
        "colab": {
          "base_uri": "https://localhost:8080/",
          "height": 1000
        },
        "outputId": "691c4758-b94b-4208-e300-409955567559"
      },
      "source": [
        "start_time = time.time()\n",
        "\n",
        "n_epochs = 1000\n",
        "\n",
        "G = Generator().to(device)\n",
        "D = Discriminator().to(device)\n",
        "\n",
        "loss = nn.BCELoss()\n",
        "# d_optimizer = optim.SGD(D.parameters(), lr=1e-3, momentum=0.8)\n",
        "# g_optimizer = optim.SGD(G.parameters(), lr=1e-3, momentum=0.8)\n",
        "\n",
        "d_optimizer = optim.Adam(D.parameters(), lr=1e-3)\n",
        "g_optimizer = optim.Adam(G.parameters(), lr=1e-3)\n",
        "\n",
        "n_steps_discriminator = 1\n",
        "n_steps_generator = 1\n",
        "\n",
        "\n",
        "fake_data_list = []\n",
        "\n",
        "def extract(v):\n",
        "    return v.data.storage().tolist()\n",
        "epochs = []\n",
        "d_fake_errs = []\n",
        "d_real_errs = []\n",
        "g_errs = []\n",
        "\n",
        "# d_avg_notes = 0\n",
        "\n",
        "for epoch in range(n_epochs):\n",
        "    # for _ in range(20):  # train D for 20 steps\n",
        "    for batch_idx, sample in enumerate(loader):\n",
        "\n",
        "\n",
        "        D.zero_grad()  # could be d_optimizer.zero_grad() since the optimizer is specific to the model\n",
        "\n",
        "        inputs, labels = sample\n",
        "        N = len(inputs)\n",
        "        # print(N)\n",
        "        inputs_real_data, labels_real_data = inputs.to(device), labels.to(device)\n",
        "\n",
        "        if epoch == 0 and batch_idx == 0:\n",
        "            print(\"Discriminator data distribution (batch 0)\")\n",
        "            sns.displot(inputs_real_data.cpu().detach().numpy().flatten(), kind=\"kde\")\n",
        "            plt.show()\n",
        "            print(f\"Note played simultaneously (in avg) for real data : {inputs_real_data.cpu().detach().numpy().flatten().sum() / ( N * 64):.2f}\")\n",
        "\n",
        "        for _ in range(n_steps_discriminator):\n",
        "          d_real_decision = D(inputs_real_data)\n",
        "          d_real_error = loss(\n",
        "              d_real_decision, Variable(torch.ones([N, 1])).to(device)\n",
        "          )  # ones = true\n",
        "          d_real_error.backward()  # compute/store gradients, but don't change params\n",
        "\n",
        "          # train D on fake data\n",
        "          d_gen_seed = Variable(torch.FloatTensor(torch.randn(N, latent_dim))).to(\n",
        "              device\n",
        "          )\n",
        "          d_fake_data = G(d_gen_seed).detach()  # detach to avoid training G on these labels\n",
        "          d_fake_decision = D(d_fake_data)\n",
        "          d_fake_error = loss(\n",
        "              d_fake_decision, Variable(torch.zeros([N, 1]).to(device))\n",
        "          )  # zeros = fake\n",
        "          d_fake_error.backward()\n",
        "          d_optimizer.step()  # Only optimizes D's parameters; changes based on stored gradients from backward()\n",
        "\n",
        "          dre, dfe = extract(d_real_error)[0], extract(d_fake_error)[0]\n",
        "\n",
        "        for _ in range(n_steps_generator):\n",
        "            G.zero_grad()\n",
        "\n",
        "            g_gen_seed = Variable(torch.FloatTensor(torch.randn(N, latent_dim))).to(\n",
        "                device\n",
        "            )\n",
        "            g_fake_data = G(g_gen_seed)\n",
        "            dg_fake_decision = D(g_fake_data)\n",
        "            g_error = loss(\n",
        "                dg_fake_decision, Variable(torch.ones([N, 1]).to(device))\n",
        "            )  # Train G to pretend it's genuine\n",
        "\n",
        "            g_error.backward()\n",
        "            g_optimizer.step()  # Only optimizes G's parameters\n",
        "\n",
        "            ge = extract(g_error)[0]\n",
        "\n",
        "    epochs.append(epoch)\n",
        "    d_fake_errs.append(dfe)\n",
        "    d_real_errs.append(dre)\n",
        "    g_errs.append(ge)\n",
        "\n",
        "    if epoch % 20 == 0:\n",
        "        print(\n",
        "            \"Epoch %s: D (%1.4f real_err, %1.4f fake_err) G (%1.4f err) \"\n",
        "            % (epoch, dre, dfe, ge)\n",
        "        )\n",
        "        print(f\"Time since beginning: {time.time() - start_time:.1f} sec\")\n",
        "        numpy_fake_data = g_fake_data.cpu().detach().numpy()\n",
        "        print(\"Generated data:\", f\"\\nMin value: {numpy_fake_data.min()} / Max value: {numpy_fake_data.max()}\")\n",
        "        print(f\"Note played simultaneously (in avg) for generated data : {numpy_fake_data.sum() / (N * 64):.2f}\")\n",
        "        sns.displot(numpy_fake_data.flatten(), kind=\"kde\")\n",
        "        plt.show()\n",
        "        fake_data_list.append((epoch, numpy_fake_data[0, :], numpy_fake_data[1, :], numpy_fake_data[-1, :]))\n",
        "\n",
        "print(\n",
        "    \"Epoch %s: D (%1.4f real_err, %1.4f fake_err) G (%1.4f err) \"\n",
        "    % (epoch, dre, dfe, ge)\n",
        ")"
      ],
      "execution_count": 21,
      "outputs": [
        {
          "output_type": "stream",
          "text": [
            "Discriminator data distribution (batch 0)\n"
          ],
          "name": "stdout"
        },
        {
          "output_type": "display_data",
          "data": {
            "image/png": "[encoded data removed]",
            "text/plain": [
              "<Figure size 360x360 with 1 Axes>"
            ]
          },
          "metadata": {
            "tags": [],
            "needs_background": "light"
          }
        },
        {
          "output_type": "stream",
          "text": [
            "Note played simultaneously (in avg) for real data : 4.02\n",
            "Epoch 0: D (0.0000 real_err, 0.0000 fake_err) G (20.4678 err) \n",
            "Time since beginning: 2.8 sec\n",
            "Generated data: \n",
            "Min value: 1.3376340805851407e-35 / Max value: 1.0\n",
            "Note played simultaneously (in avg) for generated data : 5.59\n"
          ],
          "name": "stdout"
        },
        {
          "output_type": "display_data",
          "data": {
            "image/png": "[encoded data removed]",
            "text/plain": [
              "<Figure size 360x360 with 1 Axes>"
            ]
          },
          "metadata": {
            "tags": [],
            "needs_background": "light"
          }
        },
        {
          "output_type": "stream",
          "text": [
            "Epoch 20: D (0.0000 real_err, 0.0000 fake_err) G (89.2054 err) \n",
            "Time since beginning: 21.7 sec\n",
            "Generated data: \n",
            "Min value: 0.0 / Max value: 1.0\n",
            "Note played simultaneously (in avg) for generated data : 53.09\n"
          ],
          "name": "stdout"
        },
        {
          "output_type": "display_data",
          "data": {
            "image/png": "[encoded data removed]",
            "text/plain": [
              "<Figure size 360x360 with 1 Axes>"
            ]
          },
          "metadata": {
            "tags": [],
            "needs_background": "light"
          }
        },
        {
          "output_type": "error",
          "ename": "KeyboardInterrupt",
          "evalue": "ignored",
          "traceback": [
            "\u001b[0;31m---------------------------------------------------------------------------\u001b[0m",
            "\u001b[0;31mKeyboardInterrupt\u001b[0m                         Traceback (most recent call last)",
            "\u001b[0;32m<ipython-input-21-cd21876978de>\u001b[0m in \u001b[0;36m<module>\u001b[0;34m()\u001b[0m\n\u001b[1;32m     80\u001b[0m \u001b[0;34m\u001b[0m\u001b[0m\n\u001b[1;32m     81\u001b[0m             \u001b[0mg_error\u001b[0m\u001b[0;34m.\u001b[0m\u001b[0mbackward\u001b[0m\u001b[0;34m(\u001b[0m\u001b[0;34m)\u001b[0m\u001b[0;34m\u001b[0m\u001b[0;34m\u001b[0m\u001b[0m\n\u001b[0;32m---> 82\u001b[0;31m             \u001b[0mg_optimizer\u001b[0m\u001b[0;34m.\u001b[0m\u001b[0mstep\u001b[0m\u001b[0;34m(\u001b[0m\u001b[0;34m)\u001b[0m  \u001b[0;31m# Only optimizes G's parameters\u001b[0m\u001b[0;34m\u001b[0m\u001b[0;34m\u001b[0m\u001b[0m\n\u001b[0m\u001b[1;32m     83\u001b[0m \u001b[0;34m\u001b[0m\u001b[0m\n\u001b[1;32m     84\u001b[0m             \u001b[0mge\u001b[0m \u001b[0;34m=\u001b[0m \u001b[0mextract\u001b[0m\u001b[0;34m(\u001b[0m\u001b[0mg_error\u001b[0m\u001b[0;34m)\u001b[0m\u001b[0;34m[\u001b[0m\u001b[0;36m0\u001b[0m\u001b[0;34m]\u001b[0m\u001b[0;34m\u001b[0m\u001b[0;34m\u001b[0m\u001b[0m\n",
            "\u001b[0;32m/usr/local/lib/python3.6/dist-packages/torch/autograd/grad_mode.py\u001b[0m in \u001b[0;36mdecorate_context\u001b[0;34m(*args, **kwargs)\u001b[0m\n\u001b[1;32m     24\u001b[0m         \u001b[0;32mdef\u001b[0m \u001b[0mdecorate_context\u001b[0m\u001b[0;34m(\u001b[0m\u001b[0;34m*\u001b[0m\u001b[0margs\u001b[0m\u001b[0;34m,\u001b[0m \u001b[0;34m**\u001b[0m\u001b[0mkwargs\u001b[0m\u001b[0;34m)\u001b[0m\u001b[0;34m:\u001b[0m\u001b[0;34m\u001b[0m\u001b[0;34m\u001b[0m\u001b[0m\n\u001b[1;32m     25\u001b[0m             \u001b[0;32mwith\u001b[0m \u001b[0mself\u001b[0m\u001b[0;34m.\u001b[0m\u001b[0m__class__\u001b[0m\u001b[0;34m(\u001b[0m\u001b[0;34m)\u001b[0m\u001b[0;34m:\u001b[0m\u001b[0;34m\u001b[0m\u001b[0;34m\u001b[0m\u001b[0m\n\u001b[0;32m---> 26\u001b[0;31m                 \u001b[0;32mreturn\u001b[0m \u001b[0mfunc\u001b[0m\u001b[0;34m(\u001b[0m\u001b[0;34m*\u001b[0m\u001b[0margs\u001b[0m\u001b[0;34m,\u001b[0m \u001b[0;34m**\u001b[0m\u001b[0mkwargs\u001b[0m\u001b[0;34m)\u001b[0m\u001b[0;34m\u001b[0m\u001b[0;34m\u001b[0m\u001b[0m\n\u001b[0m\u001b[1;32m     27\u001b[0m         \u001b[0;32mreturn\u001b[0m \u001b[0mcast\u001b[0m\u001b[0;34m(\u001b[0m\u001b[0mF\u001b[0m\u001b[0;34m,\u001b[0m \u001b[0mdecorate_context\u001b[0m\u001b[0;34m)\u001b[0m\u001b[0;34m\u001b[0m\u001b[0;34m\u001b[0m\u001b[0m\n\u001b[1;32m     28\u001b[0m \u001b[0;34m\u001b[0m\u001b[0m\n",
            "\u001b[0;32m/usr/local/lib/python3.6/dist-packages/torch/optim/adam.py\u001b[0m in \u001b[0;36mstep\u001b[0;34m(self, closure)\u001b[0m\n\u001b[1;32m     76\u001b[0m \u001b[0;34m\u001b[0m\u001b[0m\n\u001b[1;32m     77\u001b[0m             \u001b[0;32mfor\u001b[0m \u001b[0mp\u001b[0m \u001b[0;32min\u001b[0m \u001b[0mgroup\u001b[0m\u001b[0;34m[\u001b[0m\u001b[0;34m'params'\u001b[0m\u001b[0;34m]\u001b[0m\u001b[0;34m:\u001b[0m\u001b[0;34m\u001b[0m\u001b[0;34m\u001b[0m\u001b[0m\n\u001b[0;32m---> 78\u001b[0;31m                 \u001b[0;32mif\u001b[0m \u001b[0mp\u001b[0m\u001b[0;34m.\u001b[0m\u001b[0mgrad\u001b[0m \u001b[0;32mis\u001b[0m \u001b[0;32mnot\u001b[0m \u001b[0;32mNone\u001b[0m\u001b[0;34m:\u001b[0m\u001b[0;34m\u001b[0m\u001b[0;34m\u001b[0m\u001b[0m\n\u001b[0m\u001b[1;32m     79\u001b[0m                     \u001b[0mparams_with_grad\u001b[0m\u001b[0;34m.\u001b[0m\u001b[0mappend\u001b[0m\u001b[0;34m(\u001b[0m\u001b[0mp\u001b[0m\u001b[0;34m)\u001b[0m\u001b[0;34m\u001b[0m\u001b[0;34m\u001b[0m\u001b[0m\n\u001b[1;32m     80\u001b[0m                     \u001b[0;32mif\u001b[0m \u001b[0mp\u001b[0m\u001b[0;34m.\u001b[0m\u001b[0mgrad\u001b[0m\u001b[0;34m.\u001b[0m\u001b[0mis_sparse\u001b[0m\u001b[0;34m:\u001b[0m\u001b[0;34m\u001b[0m\u001b[0;34m\u001b[0m\u001b[0m\n",
            "\u001b[0;32m/usr/local/lib/python3.6/dist-packages/torch/tensor.py\u001b[0m in \u001b[0;36mgrad\u001b[0;34m(self)\u001b[0m\n\u001b[1;32m    940\u001b[0m         \"\"\"\n\u001b[1;32m    941\u001b[0m         \u001b[0mrelevant_args\u001b[0m \u001b[0;34m=\u001b[0m \u001b[0;34m(\u001b[0m\u001b[0mself\u001b[0m\u001b[0;34m,\u001b[0m\u001b[0;34m)\u001b[0m\u001b[0;34m\u001b[0m\u001b[0;34m\u001b[0m\u001b[0m\n\u001b[0;32m--> 942\u001b[0;31m         \u001b[0;32mfrom\u001b[0m \u001b[0mtorch\u001b[0m\u001b[0;34m.\u001b[0m\u001b[0moverrides\u001b[0m \u001b[0;32mimport\u001b[0m \u001b[0mhas_torch_function\u001b[0m\u001b[0;34m,\u001b[0m \u001b[0mhandle_torch_function\u001b[0m\u001b[0;34m\u001b[0m\u001b[0;34m\u001b[0m\u001b[0m\n\u001b[0m\u001b[1;32m    943\u001b[0m         \u001b[0;32mif\u001b[0m \u001b[0mtype\u001b[0m\u001b[0;34m(\u001b[0m\u001b[0mself\u001b[0m\u001b[0;34m)\u001b[0m \u001b[0;32mis\u001b[0m \u001b[0;32mnot\u001b[0m \u001b[0mTensor\u001b[0m \u001b[0;32mand\u001b[0m \u001b[0mhas_torch_function\u001b[0m\u001b[0;34m(\u001b[0m\u001b[0mrelevant_args\u001b[0m\u001b[0;34m)\u001b[0m\u001b[0;34m:\u001b[0m\u001b[0;34m\u001b[0m\u001b[0;34m\u001b[0m\u001b[0m\n\u001b[1;32m    944\u001b[0m             \u001b[0;31m# TODO mypy doesn't support @property, see: https://github.com/python/mypy/issues/6185\u001b[0m\u001b[0;34m\u001b[0m\u001b[0;34m\u001b[0m\u001b[0;34m\u001b[0m\u001b[0m\n",
            "\u001b[0;32m/usr/lib/python3.6/importlib/_bootstrap.py\u001b[0m in \u001b[0;36m_handle_fromlist\u001b[0;34m(module, fromlist, import_, recursive)\u001b[0m\n",
            "\u001b[0;31mKeyboardInterrupt\u001b[0m: "
          ]
        }
      ]
    },
    {
      "cell_type": "code",
      "metadata": {
        "id": "rN9zDP9tzu0J"
      },
      "source": [
        "s = time.time()"
      ],
      "execution_count": null,
      "outputs": []
    },
    {
      "cell_type": "markdown",
      "metadata": {
        "id": "_KuPk4t8Up9x"
      },
      "source": [
        "TODO:\r\n",
        "- augmenter epochs\r\n",
        "- modifier structure D/G\r\n",
        "- augmenter les steps de G\r\n",
        "- batch size ?\r\n",
        "- plus de données\r\n",
        "- metrics fin de convergence\r\n",
        "- pas tjrs get le data[0], en choisir qq uns\r\n",
        "- graph des "
      ]
    },
    {
      "cell_type": "code",
      "metadata": {
        "colab": {
          "base_uri": "https://localhost:8080/",
          "height": 296
        },
        "id": "j2BIF_PzXfgz",
        "outputId": "1350f0c4-596a-41b4-aa76-be6fd27abab7"
      },
      "source": [
        "plt.plot(epochs, d_fake_errs)\r\n",
        "# plt.legend(\"sympa\", loc='lower center')\r\n",
        "plt.plot(epochs, d_real_errs)\r\n",
        "plt.plot(epochs, g_errs)\r\n",
        "plt.xlabel(\"epochs\")\r\n",
        "plt.ylabel(\"error\")"
      ],
      "execution_count": null,
      "outputs": [
        {
          "output_type": "execute_result",
          "data": {
            "text/plain": [
              "Text(0, 0.5, 'error')"
            ]
          },
          "metadata": {
            "tags": []
          },
          "execution_count": 66
        },
        {
          "output_type": "display_data",
          "data": {
            "image/png": "[encoded data removed]",
            "text/plain": [
              "<Figure size 432x288 with 1 Axes>"
            ]
          },
          "metadata": {
            "tags": [],
            "needs_background": "light"
          }
        }
      ]
    },
    {
      "cell_type": "code",
      "metadata": {
        "id": "IDaoTEp4FVpB"
      },
      "source": [
        "def raw_to_midi(array, name, precision=1e-2):\n",
        "    pm = pretty_midi.PrettyMIDI()\n",
        "    # Create an Instrument instance\n",
        "    program = pretty_midi.instrument_name_to_program('Cello')\n",
        "    piano = pretty_midi.Instrument(program=program)\n",
        "    # array = tensor.cpu().detach().numpy()\n",
        "    # def _round(x):\n",
        "    #     if x < precision:\n",
        "    #         return 0\n",
        "    #     elif x > 1 - precision:\n",
        "    #         return 1\n",
        "    #     return x\n",
        "    array = np.array(list(map(lambda x: 0 if x < precision else 1, array)))\n",
        "    array = array.reshape((64, 84))\n",
        "    for time_idx in range(64):\n",
        "        for pitch_idx in range(84):\n",
        "            if array[time_idx, pitch_idx] == 1:\n",
        "                note = pretty_midi.Note(\n",
        "                velocity=100, pitch=25 + pitch_idx, start=1 / 16 * time_idx, end=1 / 16 * (time_idx + 1))\n",
        "                # Add it to our instrument\n",
        "                piano.notes.append(note)\n",
        "    pm.instruments.append(piano)\n",
        "    # Write out the MIDI data\n",
        "    pm.write(f'midi_results/{name}.mid')\n",
        "    \n",
        "        \n",
        "\n"
      ],
      "execution_count": null,
      "outputs": []
    },
    {
      "cell_type": "code",
      "metadata": {
        "id": "-836H98lFVpC"
      },
      "source": [
        "a = g_fake_data[0].cpu().detach().numpy()\n",
        "raw_to_midi(a, \"test\", precision=1e-1)"
      ],
      "execution_count": null,
      "outputs": []
    },
    {
      "cell_type": "code",
      "metadata": {
        "id": "--euXwMSFVpC",
        "outputId": "56e966b6-9f2b-400d-bec0-3f5009a0fdee"
      },
      "source": [
        "a"
      ],
      "execution_count": null,
      "outputs": [
        {
          "output_type": "execute_result",
          "data": {
            "text/plain": [
              "array([0.0025025 , 0.00185667, 0.02190318, ..., 0.00295474, 0.00201577,\n",
              "       0.00181699], dtype=float32)"
            ]
          },
          "metadata": {
            "tags": []
          },
          "execution_count": 58
        }
      ]
    },
    {
      "cell_type": "code",
      "metadata": {
        "id": "f9hazjOFFVpC"
      },
      "source": [
        "raw_to_midi(data[0], \"normal\", precision=1e-1)"
      ],
      "execution_count": null,
      "outputs": []
    },
    {
      "cell_type": "code",
      "metadata": {
        "id": "4uUQul59FVpD"
      },
      "source": [
        "# f_to_midi = [980, 600, 560, 500, 440, 460]\n",
        "# f_to_midi = [40, 60, 240, 260]\n",
        "f_to_midi = list(range(0, 460, 20))\n",
        "# f_to_midi = [580]\n",
        "indices = []\n",
        "for idx in f_to_midi:\n",
        "  indices.append([t[0] for t in fake_data_list].index(idx))\n",
        "\n",
        "for i, idx in enumerate(indices):\n",
        "  raw_to_midi(fake_data_list[idx][1], f\"02_17_{f_to_midi[i]}\")\n"
      ],
      "execution_count": null,
      "outputs": []
    },
    {
      "cell_type": "code",
      "metadata": {
        "id": "lwlPl0hxDJvL"
      },
      "source": [
        "f_to_midi = list(range(0, 460, 20))\r\n",
        "indices = []\r\n",
        "for idx in f_to_midi:\r\n",
        "  indices.append([t[0] for t in fake_data_list].index(idx))\r\n",
        "for i, idx in enumerate(indices):\r\n",
        "  raw_to_midi(fake_data_list[idx][1], f\"classic/more_02_16_1_{f_to_midi[i]}\")\r\n",
        "  raw_to_midi(fake_data_list[idx][2], f\"classic/more_02_16_2_{f_to_midi[i]}\")\r\n",
        "  raw_to_midi(fake_data_list[idx][3], f\"classic/more_02_16_3_{f_to_midi[i]}\")"
      ],
      "execution_count": null,
      "outputs": []
    },
    {
      "cell_type": "code",
      "metadata": {
        "colab": {
          "base_uri": "https://localhost:8080/"
        },
        "id": "F9BfCL0nGMQ7",
        "outputId": "699dbd1c-f323-4d25-da45-b1f980be7622"
      },
      "source": [
        "numpy_fake_data"
      ],
      "execution_count": null,
      "outputs": [
        {
          "output_type": "execute_result",
          "data": {
            "text/plain": [
              "array([[6.69982906e-12, 3.02907525e-11, 1.74374022e-11, ...,\n",
              "        6.13943748e-12, 3.98724560e-11, 1.15015853e-12],\n",
              "       [3.79989859e-11, 1.10656206e-10, 7.89946858e-11, ...,\n",
              "        2.00418258e-11, 1.62320463e-10, 4.71105186e-12],\n",
              "       [1.08914206e-11, 4.33525230e-11, 2.20033713e-11, ...,\n",
              "        9.95191863e-12, 6.54912652e-11, 1.25300616e-12],\n",
              "       ...,\n",
              "       [1.03405062e-11, 4.17994458e-11, 3.15074355e-11, ...,\n",
              "        1.04251859e-11, 7.19320645e-11, 1.49803650e-12],\n",
              "       [2.79842989e-11, 1.10660849e-10, 8.36410385e-11, ...,\n",
              "        3.09567198e-11, 1.76549414e-10, 4.97668790e-12],\n",
              "       [1.67047712e-11, 7.16406934e-11, 6.03870287e-11, ...,\n",
              "        1.74169585e-11, 1.04295267e-10, 2.91535524e-12]], dtype=float32)"
            ]
          },
          "metadata": {
            "tags": []
          },
          "execution_count": 70
        }
      ]
    },
    {
      "cell_type": "code",
      "metadata": {
        "id": "EGc8V9TeFVpD"
      },
      "source": [
        "for tuple in fake_data_list[8:]:\n",
        "    raw_to_midi(tuple[1], f\"nice_10steps_{tuple[0]}\")"
      ],
      "execution_count": null,
      "outputs": []
    },
    {
      "cell_type": "code",
      "metadata": {
        "id": "sEJDdmxWFVpD"
      },
      "source": [
        "raw_to_midi(fake_data_list[-1][1], f\"5000\")"
      ],
      "execution_count": null,
      "outputs": []
    },
    {
      "cell_type": "code",
      "metadata": {
        "id": "1Hr3TGt1FVpD",
        "outputId": "5d5ee380-0799-455c-e44b-548499225536"
      },
      "source": [
        "fake_data_list"
      ],
      "execution_count": null,
      "outputs": [
        {
          "output_type": "execute_result",
          "data": {
            "text/plain": [
              "[(0,\n",
              "  array([0.4944722 , 0.48824844, 0.5040509 , ..., 0.4672277 , 0.50416726,\n",
              "         0.50914097], dtype=float32)),\n",
              " (20,\n",
              "  array([4.2990767e-04, 3.0212823e-04, 1.6526238e-03, ..., 7.9703328e-05,\n",
              "         1.1255940e-03, 8.9708244e-04], dtype=float32)),\n",
              " (40,\n",
              "  array([0.00567092, 0.00258316, 0.01168862, ..., 0.00304571, 0.00492434,\n",
              "         0.00556258], dtype=float32)),\n",
              " (60,\n",
              "  array([0.00121755, 0.00027669, 0.01548108, ..., 0.00043324, 0.00051334,\n",
              "         0.00030826], dtype=float32)),\n",
              " (80,\n",
              "  array([1.4379176e-03, 4.3764905e-04, 4.8852971e-01, ..., 6.6985749e-04,\n",
              "         4.7460065e-04, 3.3473939e-04], dtype=float32)),\n",
              " (100,\n",
              "  array([0.00073991, 0.0003188 , 0.00693077, ..., 0.0008195 , 0.00040314,\n",
              "         0.00026975], dtype=float32)),\n",
              " (120,\n",
              "  array([2.4394337e-03, 6.9980620e-04, 9.4728804e-01, ..., 4.0026554e-03,\n",
              "         1.0089302e-03, 5.6759396e-04], dtype=float32)),\n",
              " (140,\n",
              "  array([0.00043589, 0.00013761, 0.00021011, ..., 0.00055069, 0.0001505 ,\n",
              "         0.00015804], dtype=float32)),\n",
              " (160,\n",
              "  array([0.00514349, 0.00207999, 0.00943945, ..., 0.00569277, 0.00360015,\n",
              "         0.00222408], dtype=float32)),\n",
              " (180,\n",
              "  array([4.3598970e-06, 6.7305443e-08, 1.0438031e-04, ..., 5.3689598e-07,\n",
              "         1.3855255e-07, 6.2242250e-08], dtype=float32)),\n",
              " (200,\n",
              "  array([7.5235164e-08, 8.5844761e-08, 1.2339482e-06, ..., 2.1033179e-07,\n",
              "         2.6263029e-07, 2.4500505e-07], dtype=float32)),\n",
              " (220,\n",
              "  array([1.5059092e-08, 1.2436656e-08, 5.4439892e-07, ..., 6.1962474e-08,\n",
              "         3.1116599e-08, 4.4966036e-08], dtype=float32)),\n",
              " (240,\n",
              "  array([3.5404093e-05, 4.5175591e-04, 3.4709310e-04, ..., 5.4908069e-05,\n",
              "         5.9187318e-05, 2.9463072e-05], dtype=float32)),\n",
              " (260,\n",
              "  array([4.0649528e-09, 8.4000042e-09, 5.2325777e-07, ..., 8.4798817e-09,\n",
              "         3.1237417e-09, 3.7456815e-09], dtype=float32)),\n",
              " (280,\n",
              "  array([1.25875687e-07, 1.73990117e-07, 5.67213146e-06, ...,\n",
              "         1.90812855e-07, 7.39221164e-08, 1.09816376e-07], dtype=float32))]"
            ]
          },
          "metadata": {
            "tags": []
          },
          "execution_count": 9
        }
      ]
    },
    {
      "cell_type": "code",
      "metadata": {
        "id": "apPO4zvnFVpE",
        "outputId": "971ff4ff-34fb-4a50-b48a-9b19daf04795"
      },
      "source": [
        "np.median(g_fake_data[0].cpu().detach().numpy())"
      ],
      "execution_count": null,
      "outputs": [
        {
          "output_type": "execute_result",
          "data": {
            "text/plain": [
              "0.008360177"
            ]
          },
          "metadata": {
            "tags": []
          },
          "execution_count": 75
        }
      ]
    },
    {
      "cell_type": "code",
      "metadata": {
        "id": "j5FB4AmxFVpE",
        "outputId": "f4b3abe4-26d7-4d52-c441-8260b422f690"
      },
      "source": [
        "print(f\"Note played simultaneously (in avg) for real data : {data[0].sum() / 64}\")\n",
        "print(f\"Note played simultaneously (in avg) for fake data : {g_fake_data[0].cpu().detach().numpy().sum() / 64}\")\n",
        "print(f\"Note played simultaneously (in avg) for fake data : {fake_data_list[idx][1].sum() / 64}\")"
      ],
      "execution_count": null,
      "outputs": [
        {
          "output_type": "stream",
          "text": [
            "Note played simultaneously (in avg) for real data : 4.9375\n",
            "Note played simultaneously (in avg) for fake data : 1.475616455078125\n",
            "Note played simultaneously (in avg) for fake data : 4.571640968322754\n"
          ],
          "name": "stdout"
        }
      ]
    }
  ]
}